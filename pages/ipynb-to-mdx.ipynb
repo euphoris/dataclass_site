{
 "cells": [
  {
   "cell_type": "code",
   "execution_count": 31,
   "metadata": {},
   "outputs": [],
   "source": [
    "import json\n",
    "filename = 'file-format.ipynb'\n",
    "with open(filename) as f:\n",
    "    data = json.load(f)\n"
   ]
  },
  {
   "cell_type": "code",
   "execution_count": 38,
   "metadata": {},
   "outputs": [],
   "source": [
    "lines = []\n",
    "for cell in data['cells']:\n",
    "    lines.append('\\n\\n')\n",
    "    if cell['cell_type'] == 'code':\n",
    "        if cell['source'][0].startswith('#!'):\n",
    "            continue\n",
    "        lines.append('\\n```python copy\\n')\n",
    "        lines.extend(cell['source'])\n",
    "        lines.append('\\n```\\n')\n",
    "        \n",
    "        if (outputs := cell.get('outputs')):\n",
    "            for output in outputs:\n",
    "                if output['output_type'] == 'stream':\n",
    "                    lines.append('\\n```text filename=\"결과\"\\n')\n",
    "                    lines.extend(output['text'])\n",
    "                    lines.append('```\\n')\n",
    "                elif output['output_type'] == 'execute_result':\n",
    "                    lines.append('\\n```text filename=\"결과\"\\n')\n",
    "                    lines.extend(output['data']['text/plain'])\n",
    "                    lines.append('\\n```\\n')\n",
    "                else:\n",
    "                    print(output)\n",
    "\n",
    "    elif cell['cell_type'] == 'markdown':\n",
    "        lines.extend(cell['source'])   \n"
   ]
  },
  {
   "cell_type": "code",
   "execution_count": 39,
   "metadata": {},
   "outputs": [],
   "source": [
    "\n",
    "with open(filename.replace('.ipynb', '.mdx'), 'w') as f:\n",
    "    f.write(''.join(lines))"
   ]
  },
  {
   "cell_type": "code",
   "execution_count": null,
   "metadata": {},
   "outputs": [],
   "source": []
  }
 ],
 "metadata": {
  "kernelspec": {
   "display_name": "base",
   "language": "python",
   "name": "python3"
  },
  "language_info": {
   "codemirror_mode": {
    "name": "ipython",
    "version": 3
   },
   "file_extension": ".py",
   "mimetype": "text/x-python",
   "name": "python",
   "nbconvert_exporter": "python",
   "pygments_lexer": "ipython3",
   "version": "3.10.11"
  }
 },
 "nbformat": 4,
 "nbformat_minor": 2
}
