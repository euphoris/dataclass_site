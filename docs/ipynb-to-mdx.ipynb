{
 "cells": [
  {
   "cell_type": "code",
   "execution_count": 10,
   "metadata": {},
   "outputs": [
    {
     "data": {
      "text/plain": [
       "['computer-vision\\\\annotation.ipynb',\n",
       " 'computer-vision\\\\object-detection.ipynb',\n",
       " 'computer-vision\\\\transfer-learning.ipynb']"
      ]
     },
     "execution_count": 10,
     "metadata": {},
     "output_type": "execute_result"
    }
   ],
   "source": [
    "import glob\n",
    "import os\n",
    "import json\n",
    "\n",
    "ipynbs = glob.glob('**/*.ipynb', recursive=True)\n",
    "new_ipynbs = []\n",
    "for ipynb in ipynbs:\n",
    "    if ipynb == 'ipynb-to-mdx.ipynb':\n",
    "        continue\n",
    "    mdx = ipynb.replace('.ipynb', '.mdx')\n",
    "    source_mtime = os.path.getmtime(ipynb)\n",
    "    target_mtime = os.path.getmtime(mdx) if os.path.exists(mdx) else 0\n",
    "    if source_mtime > target_mtime:\n",
    "        new_ipynbs.append(ipynb)\n",
    "\n",
    "excludes = ['machine-learning\\\\DTW.ipynb',\n",
    " 'machine-learning\\\\pytorch.ipynb',\n",
    " 'machine-learning\\\\Untitled4.ipynb',\n",
    " 'machine-learning\\\\Untitled5.ipynb',\n",
    " 'machine-learning\\\\Untitled6.ipynb',\n",
    " 'machine-learning\\\\Untitled7.ipynb',]\n",
    "\n",
    "[ipynb for ipynb in new_ipynbs if ipynb not in excludes]"
   ]
  },
  {
   "cell_type": "code",
   "execution_count": 11,
   "metadata": {},
   "outputs": [
    {
     "name": "stdout",
     "output_type": "stream",
     "text": [
      "{'name': 'stderr', 'output_type': 'stream', 'text': [\"Fast image processor class <class 'transformers.models.vit.image_processing_vit_fast.ViTImageProcessorFast'> is available for this model. Using slow image processor class. To use the fast image processor class set `use_fast=True`.\\n\"]}\n",
      "{'name': 'stderr', 'output_type': 'stream', 'text': [\"Some weights of ViTForImageClassification were not initialized from the model checkpoint at google/vit-base-patch16-224-in21k and are newly initialized: ['classifier.bias', 'classifier.weight']\\n\", 'You should probably TRAIN this model on a down-stream task to be able to use it for predictions and inference.\\n']}\n"
     ]
    }
   ],
   "source": [
    "for ipynb in new_ipynbs:\n",
    "    convert_ipynb(ipynb)"
   ]
  },
  {
   "cell_type": "code",
   "execution_count": 3,
   "metadata": {},
   "outputs": [],
   "source": [
    "def convert_ipynb(ipynb):\n",
    "    with open(ipynb) as f:\n",
    "        data = json.load(f)\n",
    "\n",
    "    lines = []\n",
    "    for cell in data['cells']:\n",
    "        lines.append('\\n\\n')\n",
    "        if cell['cell_type'] == 'code':\n",
    "            SKIP_ERROR = False\n",
    "            if 'source' not in cell or not cell['source'] or cell['source'][0].startswith('#!hide'):\n",
    "                continue\n",
    "\n",
    "            # 셀 처리 명령\n",
    "            SKIP_ERROR = SKIP_STDOUT = SKIP_STREAM = False\n",
    "            if cell['source'][0].startswith('#!'):\n",
    "                commands = cell['source'][0][2:].strip().split()\n",
    "                cell['source'] = cell['source'][1:]\n",
    "                SKIP_ERROR = 'skip_error' in commands\n",
    "                SKIP_STDOUT = 'skip_stdout' in commands\n",
    "                SKIP_STREAM = 'skip_stream' in commands\n",
    "\n",
    "            # 코드\n",
    "            lines.append('\\n```python copy\\n')\n",
    "            lines.extend(cell['source'])\n",
    "            lines.append('\\n```\\n')\n",
    "            \n",
    "            # 출력\n",
    "            if (outputs := cell.get('outputs')):\n",
    "                output_lines = []\n",
    "                for output in outputs:\n",
    "                    if output['output_type'] == 'stream' and not SKIP_STREAM:\n",
    "                        if output['name'] == 'stderr' and SKIP_ERROR:\n",
    "                            continue\n",
    "                        output_lines.append('\\n```\\n')\n",
    "                        output_lines.extend(output['text'])\n",
    "                        output_lines.append('\\n```\\n')\n",
    "                    if 'data' in output:\n",
    "                        if 'text/plain' in output['data']:\n",
    "                            output_lines.append('\\n```\\n')\n",
    "                            output_lines.extend(output['data']['text/plain'])\n",
    "                            output_lines.append('\\n```\\n')\n",
    "                        if 'image/png' in output['data']:\n",
    "                            output_lines.append('\\n![](data:image/png;base64,' + output['data']['image/png'] + ')\\n')\n",
    "                        \n",
    "                    else:\n",
    "                        print(output)\n",
    "                if output_lines:\n",
    "                    lines.append('\\n:::info[output]')\n",
    "                    lines.extend(output_lines)\n",
    "                    lines.append('\\n:::\\n')\n",
    "\n",
    "        elif cell['cell_type'] == 'markdown':\n",
    "            lines.extend(cell['source'])   \n",
    "\n",
    "\n",
    "    with open(ipynb.replace('.ipynb', '.mdx'), 'w') as f:\n",
    "        f.write(''.join(lines))"
   ]
  },
  {
   "cell_type": "code",
   "execution_count": null,
   "metadata": {},
   "outputs": [],
   "source": []
  }
 ],
 "metadata": {
  "kernelspec": {
   "display_name": "base",
   "language": "python",
   "name": "python3"
  },
  "language_info": {
   "codemirror_mode": {
    "name": "ipython",
    "version": 3
   },
   "file_extension": ".py",
   "mimetype": "text/x-python",
   "name": "python",
   "nbconvert_exporter": "python",
   "pygments_lexer": "ipython3",
   "version": "3.10.11"
  }
 },
 "nbformat": 4,
 "nbformat_minor": 2
}
