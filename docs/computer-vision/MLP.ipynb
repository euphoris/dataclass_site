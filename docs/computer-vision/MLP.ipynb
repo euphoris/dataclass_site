{
 "cells": [
  {
   "cell_type": "markdown",
   "id": "cb9d2219",
   "metadata": {},
   "source": [
    "# 다층 신경망"
   ]
  },
  {
   "cell_type": "code",
   "execution_count": 1,
   "id": "930ccbfa",
   "metadata": {},
   "outputs": [
    {
     "name": "stderr",
     "output_type": "stream",
     "text": [
      "c:\\Users\\eupho\\anaconda3\\lib\\site-packages\\pandas\\core\\arrays\\masked.py:60: UserWarning: Pandas requires version '1.3.6' or newer of 'bottleneck' (version '1.3.5' currently installed).\n",
      "  from pandas.core import (\n"
     ]
    }
   ],
   "source": [
    "#!hide\n",
    "import tensorflow as tf\n",
    "(x_train, y_train), (x_test, y_test) = tf.keras.datasets.mnist.load_data()\n",
    "def filter_dataset(x, y, neg_cls, pos_cls):\n",
    "    mask = (y == neg_cls) | (y == pos_cls)\n",
    "    x, y = x[mask], y[mask]\n",
    "    y = y == pos_cls\n",
    "    return x, y\n",
    "x_train2, y_train2 = filter_dataset(x_train, y_train, 0, 1)\n",
    "x_test2, y_test2 = filter_dataset(x_test, y_test, 0, 1)\n",
    "tf.keras.utils.set_random_seed(42)"
   ]
  },
  {
   "cell_type": "markdown",
   "id": "dbe1dd04",
   "metadata": {},
   "source": [
    "## 하이퍼파라미터 튜닝"
   ]
  },
  {
   "cell_type": "markdown",
   "id": "f8b85d7b",
   "metadata": {},
   "source": [
    "### KFold"
   ]
  },
  {
   "cell_type": "code",
   "execution_count": 2,
   "id": "6c675cd4",
   "metadata": {},
   "outputs": [
    {
     "name": "stdout",
     "output_type": "stream",
     "text": [
      "[0.20619988441467285, 0.9940781593322754]\n",
      "[0.3002406656742096, 0.996052086353302]\n",
      "[0.15784668922424316, 0.9964469075202942]\n",
      "[0.17611920833587646, 0.996052086353302]\n",
      "[0.14786003530025482, 0.9976312518119812]\n"
     ]
    }
   ],
   "source": [
    "from sklearn.model_selection import KFold\n",
    "from tensorflow.keras.layers import *\n",
    "\n",
    "kf = KFold(n_splits=5)\n",
    "for train, val in kf.split(x_train2):\n",
    "    model = tf.keras.Sequential([\n",
    "        Flatten(),\n",
    "        Dense(1, activation='sigmoid'),\n",
    "    ])\n",
    "    model.compile(loss='binary_crossentropy', metrics=['accuracy'])\n",
    "    model.fit(x_train2[train], y_train2[train], verbose=0)\n",
    "    print(model.evaluate(x_train2[val], y_train2[val], verbose=0))"
   ]
  },
  {
   "cell_type": "code",
   "execution_count": 3,
   "id": "fda5896b",
   "metadata": {},
   "outputs": [
    {
     "data": {
      "text/plain": [
       "array([7], dtype=int64)"
      ]
     },
     "execution_count": 3,
     "metadata": {},
     "output_type": "execute_result"
    }
   ],
   "source": [
    "import scipy\n",
    "p = scipy.stats.randint(1, 10) # 1에서 9까지 정수\n",
    "p.rvs(1)"
   ]
  },
  {
   "cell_type": "code",
   "execution_count": 4,
   "id": "17c6407c",
   "metadata": {},
   "outputs": [
    {
     "data": {
      "text/plain": [
       "array([8.96542987, 2.8343479 , 8.79691   , 6.96850158, 5.45832753,\n",
       "       1.99974916, 5.59248892, 4.33708611, 2.42866818, 7.50888473])"
      ]
     },
     "execution_count": 4,
     "metadata": {},
     "output_type": "execute_result"
    }
   ],
   "source": [
    "p = scipy.stats.uniform(1, 10) # 1에서 9까지 실수\n",
    "p.rvs(10)"
   ]
  },
  {
   "cell_type": "code",
   "execution_count": 5,
   "id": "39f3ce15",
   "metadata": {},
   "outputs": [
    {
     "data": {
      "text/plain": [
       "array([0.00014765, 0.01465535, 0.06541211, 0.00010054, 0.0947621 ,\n",
       "       0.00711942, 0.00683848, 0.000105  , 0.00011727, 0.00375253])"
      ]
     },
     "execution_count": 5,
     "metadata": {},
     "output_type": "execute_result"
    }
   ],
   "source": [
    "p = scipy.stats.loguniform(1e-4, 1e-1) # 1에서 9까지 실수\n",
    "p.rvs(10)"
   ]
  },
  {
   "cell_type": "code",
   "execution_count": 6,
   "id": "f818f25d",
   "metadata": {},
   "outputs": [
    {
     "data": {
      "text/plain": [
       "array([2.51510496e-03, 6.50634888e-02, 1.27343835e-05, 1.17196499e-02,\n",
       "       4.34084483e-02, 3.36090288e-04, 2.95224255e-03, 1.16701505e-05,\n",
       "       1.35815215e-03, 3.63277394e-05])"
      ]
     },
     "execution_count": 6,
     "metadata": {},
     "output_type": "execute_result"
    }
   ],
   "source": [
    "p = scipy.stats.uniform(1, 4) # 1에서 9까지 실수\n",
    "10 ** -p.rvs(10)"
   ]
  },
  {
   "cell_type": "markdown",
   "id": "bb2e48f0",
   "metadata": {},
   "source": [
    "## 무작위 탐색"
   ]
  },
  {
   "cell_type": "code",
   "execution_count": 8,
   "id": "5e6a1ff6",
   "metadata": {},
   "outputs": [
    {
     "name": "stdout",
     "output_type": "stream",
     "text": [
      "learning_rate=5.841743225187504, hidden_size=32, loss=8507.474609375, acc=0.9968429207801819\n",
      "learning_rate=483.1360202867375, hidden_size=128, loss=139677952.0, acc=0.9968429207801819\n",
      "learning_rate=0.008599666138418723, hidden_size=128, loss=0.26800888776779175, acc=0.9984214901924133\n",
      "learning_rate=0.7752976929110398, hidden_size=128, loss=5951.1552734375, acc=0.9936859011650085\n",
      "learning_rate=0.9390963415171655, hidden_size=8, loss=0.7487903237342834, acc=0.5122336149215698\n"
     ]
    },
    {
     "data": {
      "text/plain": [
       "{'learning_rate': 0.008599666138418723, 'hidden_size': 128}"
      ]
     },
     "execution_count": 8,
     "metadata": {},
     "output_type": "execute_result"
    }
   ],
   "source": [
    "import scipy\n",
    "import numpy as np\n",
    "from sklearn.model_selection import KFold, train_test_split\n",
    "\n",
    "x_train2_t, x_train2_v, y_train2_t, y_train2_v = train_test_split(\\\n",
    "    x_train2, y_train2, test_size=0.1)\n",
    "min_loss = np.inf\n",
    "best_hyperparam = None\n",
    "for _ in range(5):\n",
    "    learning_rate = scipy.stats.loguniform(1e-3, 1e3).rvs()\n",
    "    hidden_size = 2 ** scipy.stats.randint(3, 8).rvs()\n",
    "    model = tf.keras.Sequential([\n",
    "        Flatten(),\n",
    "        Dense(hidden_size, activation='relu'),\n",
    "        Dense(1, activation='sigmoid'),\n",
    "    ])\n",
    "    opt = tf.keras.optimizers.Adam(learning_rate=learning_rate)\n",
    "    model.compile(loss='binary_crossentropy', metrics=['accuracy'],\n",
    "        optimizer=opt)\n",
    "    model.fit(x_train2_t, y_train2_t, verbose=0)\n",
    "    loss, acc = model.evaluate(x_train2_v, y_train2_v, verbose=0)\n",
    "    print(f'{learning_rate=}, {hidden_size=}, {loss=}, {acc=}')\n",
    "    if loss < min_loss:\n",
    "        min_loss = loss\n",
    "        best_hyperparam = {'learning_rate': learning_rate, 'hidden_size': hidden_size}\n",
    "best_hyperparam"
   ]
  },
  {
   "cell_type": "markdown",
   "id": "85f52535",
   "metadata": {},
   "source": [
    "## 무작위 탐색 + KFold"
   ]
  },
  {
   "cell_type": "code",
   "execution_count": 9,
   "id": "4a860732",
   "metadata": {},
   "outputs": [
    {
     "name": "stdout",
     "output_type": "stream",
     "text": [
      "learning_rate=0.0042769060399390916, hidden_size=16, loss=0.1274031549692154, acc=0.998815655708313\n",
      "learning_rate=0.010319640035406875, hidden_size=16, loss=0.253795862197876, acc=0.9972364902496338\n",
      "learning_rate=0.08318199164594436, hidden_size=16, loss=0.1673513650894165, acc=0.9403868913650513\n",
      "learning_rate=0.008336466531691648, hidden_size=16, loss=0.007034010253846645, acc=0.9928938150405884\n",
      "learning_rate=18.24020203491578, hidden_size=16, loss=0.34022974967956543, acc=0.8855112791061401\n",
      "learning_rate=0.0042769060399390916, hidden_size=16, loss=0.035108782351017, acc=0.9976312518119812\n",
      "learning_rate=0.010319640035406875, hidden_size=16, loss=0.2921801805496216, acc=0.9972364902496338\n",
      "learning_rate=0.08318199164594436, hidden_size=16, loss=0.1938542127609253, acc=0.9964469075202942\n",
      "learning_rate=0.008336466531691648, hidden_size=16, loss=0.3855329155921936, acc=0.9913146495819092\n",
      "learning_rate=18.24020203491578, hidden_size=16, loss=28363.025390625, acc=0.9976312518119812\n",
      "learning_rate=0.0042769060399390916, hidden_size=16, loss=0.059768952429294586, acc=0.9972364902496338\n",
      "learning_rate=0.010319640035406875, hidden_size=16, loss=0.014166454784572124, acc=0.9968416690826416\n",
      "learning_rate=0.08318199164594436, hidden_size=16, loss=0.1377105861902237, acc=0.9553888440132141\n",
      "learning_rate=0.008336466531691648, hidden_size=16, loss=0.014755024574697018, acc=0.9968416690826416\n",
      "learning_rate=18.24020203491578, hidden_size=16, loss=53.853389739990234, acc=0.9838136434555054\n",
      "learning_rate=0.0042769060399390916, hidden_size=16, loss=0.13070707023143768, acc=0.9984208345413208\n",
      "learning_rate=0.010319640035406875, hidden_size=16, loss=0.04945237934589386, acc=0.998815655708313\n",
      "learning_rate=0.08318199164594436, hidden_size=16, loss=1.0367889404296875, acc=0.9952625632286072\n",
      "learning_rate=0.008336466531691648, hidden_size=16, loss=0.018497658893465996, acc=0.9940781593322754\n",
      "learning_rate=18.24020203491578, hidden_size=16, loss=0.10675318539142609, acc=0.9964469075202942\n",
      "learning_rate=0.0042769060399390916, hidden_size=16, loss=0.16117654740810394, acc=0.9968416690826416\n",
      "learning_rate=0.010319640035406875, hidden_size=16, loss=0.013880793005228043, acc=0.9996052384376526\n",
      "learning_rate=0.08318199164594436, hidden_size=16, loss=0.0316062793135643, acc=0.9877615571022034\n",
      "learning_rate=0.008336466531691648, hidden_size=16, loss=0.07004819810390472, acc=0.9984208345413208\n",
      "learning_rate=18.24020203491578, hidden_size=16, loss=0.02828255109488964, acc=0.9976312518119812\n"
     ]
    },
    {
     "data": {
      "text/plain": [
       "{'learning_rate': 0.008336466531691648, 'hidden_size': 16}"
      ]
     },
     "execution_count": 9,
     "metadata": {},
     "output_type": "execute_result"
    }
   ],
   "source": [
    "kf = KFold(n_splits=5)\n",
    "min_loss = np.inf\n",
    "best_hyperparam = None\n",
    "\n",
    "hyperparams = []\n",
    "for _ in range(5):\n",
    "    learning_rate = scipy.stats.loguniform(1e-3, 1e3).rvs()\n",
    "    hidden_size = 2 ** scipy.stats.randint(3, 8).rvs()\n",
    "    hyperparams.append({\n",
    "        'learning_rate': learning_rate,\n",
    "        'hidden_size': hidden_size\n",
    "    })\n",
    "    \n",
    "for train, val in kf.split(x_train2):\n",
    "    x_train2_t = x_train2[train]\n",
    "    x_train2_v = x_train2[val]\n",
    "    y_train2_t = y_train2[train]\n",
    "    y_train2_v = y_train2[val]\n",
    "\n",
    "    for hyperparam in hyperparams:\n",
    "        learning_rate = hyperparam['learning_rate']\n",
    "        hiden_size = hyperparam['hidden_size']\n",
    "\n",
    "        model = tf.keras.Sequential([\n",
    "            Flatten(),\n",
    "            Dense(hidden_size, activation='relu'),\n",
    "            Dense(1, activation='sigmoid'),\n",
    "        ])\n",
    "        opt = tf.keras.optimizers.Adam(learning_rate=learning_rate)\n",
    "        model.compile(loss='binary_crossentropy', metrics=['accuracy'],\n",
    "            optimizer=opt)\n",
    "        model.fit(x_train2_t, y_train2_t, verbose=0)\n",
    "        loss, acc = model.evaluate(x_train2_v, y_train2_v, verbose=0)\n",
    "        print(f'{learning_rate=}, {hidden_size=}, {loss=}, {acc=}')\n",
    "        if loss < min_loss:\n",
    "            min_loss = loss\n",
    "            best_hyperparam = {'learning_rate': learning_rate, 'hidden_size': hidden_size}\n",
    "best_hyperparam"
   ]
  },
  {
   "cell_type": "markdown",
   "id": "7216206f",
   "metadata": {},
   "source": [
    "## 퀴즈\n",
    "\n",
    "<iframe src=\"https://tally.so/embed/wAxaX0?alignLeft=1&hideTitle=1&transparentBackground=1&dynamicHeight=1\" loading=\"lazy\" width=\"100%\" height=\"2200\" frameborder=\"0\" marginheight=\"0\" marginwidth=\"0\" title=\"[CV] 활성화 함수와 정칙화, 하이퍼파라미터 튜닝\"></iframe>"
   ]
  }
 ],
 "metadata": {
  "kernelspec": {
   "display_name": "Python 3 (ipykernel)",
   "language": "python",
   "name": "python3"
  },
  "language_info": {
   "codemirror_mode": {
    "name": "ipython",
    "version": 3
   },
   "file_extension": ".py",
   "mimetype": "text/x-python",
   "name": "python",
   "nbconvert_exporter": "python",
   "pygments_lexer": "ipython3",
   "version": "3.10.11"
  }
 },
 "nbformat": 4,
 "nbformat_minor": 5
}
