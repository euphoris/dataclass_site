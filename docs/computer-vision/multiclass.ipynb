{
 "cells": [
  {
   "cell_type": "markdown",
   "id": "6c63f2c3",
   "metadata": {},
   "source": [
    "# 다항 분류\n",
    "\n",
    "그 다음에 우리가 지금까지 이미지를 이항으로만 분류를 했는데 실제로 많은 경우에 이항분류만 해도 됩니다\n",
    "\n",
    "예를 들면 부품이다\n",
    "\n",
    "그럼 정상이거나 분량이거나 둘 중에 하나지 10개 20개 이렇게 분류해야 되는 경우는 잘 없는데 분류를 해야 되는 경우도 있죠\n",
    "\n",
    "예를 들어 한 개 라인에서 여러 개 부품을 생산을 한다던가 그래서 마지막에 부품을 종류별로 나사는 이쪽으로 볼트는 저쪽으로 이렇게 보낸다던가 이러면 다항분류가 필요하게 됩니다\n",
    "\n",
    "여러 개로 분류하는 거는 사실 굉장히 간단한데 평가하는 기준을 Accuracy를 바꿔 주시면 되고 그다음에 출력을 맨 마지막 출력을 여기에 10개 이렇게 돼 있는데 카테고리 개수만큼 하시면 돼요\n",
    "\n",
    "그래서 약간 헷갈리는 부분인데 이항분류에서는 한 개만 출력하거든요\n",
    "\n",
    "그런데 다항분류에서는 한 개만 출력하거든요\n",
    "\n",
    "그런데 다항분류에서는 우리가 10개를 구분하고 싶다\n",
    "\n",
    "그러면 10개를 출력합니다\n",
    "\n",
    "그러면 아니 확률이니까 9개만 출력해도 나머지 하나는 100%에서 나머지 9개의 합계를 빼면 자동으로 나오는 거니까 수학적으로는 9개만 있으면 되는 거 아니에요?\n",
    "\n",
    "맞습니다\n",
    "\n",
    "맞는데 그렇게 굳이 하지 않고 그냥 10개를 다 계산을 합니다\n",
    "\n",
    "그래서 사실은 이항분류도 그냥 다항분류로 풀면 돼요\n",
    "\n",
    "어떻게 하면 되냐면 다항분류에서 2개를 출력하게 하면 됩니다\n",
    "\n",
    "그래서 이항분류도 그냥 다항분류로 풀면 돼요\n",
    "\n",
    "결과가 실제로 똑같아요 굳이 그렇게 하지 않는 이유는 대단한 건 아니고 그냥 계산을 굳이 그렇게 할 필요가 없어서 그럼\n",
    "\n",
    "다항분류에서는 왜 굳이 10개를 합니까?\n",
    "\n",
    "10개를 계산하는 게 더 쉬워요\n",
    "\n",
    "한 방에 계산이 됩니다\n",
    "\n",
    "10개는 9개 계산한 다음에 다시 더해서 1에서 빼려면 그게 더 번잡하거든요\n",
    "\n",
    "그래서 다항분류에서는 카테고리 수만큼 다 출력하게 맨 끝에 숫자를 우리가 출력하려는 카테고리 개수에다가 맞춰주시면 됩니다\n",
    "\n",
    "그래서 다항분류에서는 카테고리 수만큼 다 출력하게 그래서 다항분류에서는 카테고리 수만큼 다 출력하게 맞춰주시면 돼요\n",
    "\n",
    "그것만 신경 쓰시면 나머지는 특별히 어려운 게 없고 그다음에 우리가 계속 지금까지 손실을 BC를 쓰고 있었는데 이거를 CE로 크로스 엔트로피로 바꿔주시면 됩니다\n",
    "\n",
    "그래서 그 정도만 신경을 쓰시면 나머지는 똑같아요\n",
    "\n",
    "이런 데 코드 보시면 이거 앞에 했던 거랑 다 똑같거든요\n",
    "\n",
    "다 똑같고 보시면 바뀌는 부분은 두 개밖에 없다 출력의 사이즈랑 그다음에 손실함수 종류 이것만 바뀌게 됩니다\n",
    "\n",
    "난리나다 그래서 이것도 코드 주의하셔야 되는 게 여기 슬라이드 보시면 1, 2, 3 이렇게 돼 있는데 이거 한 셀에다가 다 합쳐서 해주셔야 돼요\n",
    "\n",
    "이거를 한 셀에다가 다 합쳐서 해주셔야 돼요\n",
    "\n",
    "이거를 따로따로 하시는 게 아닙니다\n",
    "\n",
    "무슨 말이냐면 아이고 시끄러워라 요거를 페이지가 나눠져 있다고 따로따로 이렇게 하시면 안 되고 다 한 셀에다가 이렇게 합쳐주세요 이렇게 한 셀에다 합쳐주시면 되고 그 다음에 이제 우리가 이제 파이너리 데이터가 아니라 그냥 트레인 데이터셋 전체를 다 넣어주면 됩니다\n",
    "\n",
    "그래서 이제 코드가 더 간단해졌는데 우리가 이때까지는 원래 다항으로 돼 있는 데이터를 억지로 이항으로 만들었기 때문에 코드가 되게 지저분했는데 사실은 원래 다항 데이터기 때문에 그냥 데이터 로더에다가 그냥 통째로 넣으면 됩니다\n",
    "\n",
    "무슨 바이너리 어쩌고 이런 거 이제 필요 없어요\n",
    "\n",
    "그래서 데이터 로더에다가 우리 데이터셋 넣어주고 32개씩 넣어라 섞어서 이렇게 해가지고 트레이너 핏 하시면 됩니다\n",
    "\n",
    "그래서 여기 훈련 4줄 복사해서 돌리시면 되겠죠\n"
   ]
  },
  {
   "cell_type": "code",
   "execution_count": 108,
   "id": "355267d3-c833-4652-bd8b-bb67964e20bb",
   "metadata": {},
   "outputs": [],
   "source": [
    "from torchmetrics.classification import MulticlassAccuracy\n",
    "\n",
    "class MultiClassModel(pl.LightningModule):\n",
    "    def __init__(self):\n",
    "        super().__init__()\n",
    "        self.fc1 = nn.Linear(28*28, 128)\n",
    "        self.fc2 = nn.Linear(128, 64)\n",
    "        self.fc3 = nn.Linear(64, 10)\n",
    "        self.accuracy = MulticlassAccuracy(10)\n",
    "    def forward(self, x):\n",
    "        x = x.view(-1, 28*28)\n",
    "        x = torch.relu(self.fc1(x))\n",
    "        x = torch.relu(self.fc2(x))\n",
    "        x = self.fc3(x)  # 활성화 함수 없음\n",
    "        return x\n",
    "\n",
    "    def process_batch(self, batch):\n",
    "        images, labels = batch\n",
    "        outputs = self(images)  # 모형은 확률이 아닌 로짓(logit)을 출력\n",
    "        loss = F.cross_entropy(outputs, labels)\n",
    "        return outputs, loss\n",
    "    def training_step(self, batch):\n",
    "        outputs, loss = self.process_batch(batch)\n",
    "        self.log('train_loss', loss)\n",
    "        return loss\n",
    "\n",
    "    def test_step(self, batch):\n",
    "        outputs, loss = self.process_batch(batch)\n",
    "        _, labels = batch\n",
    "        accuracy = self.accuracy(outputs, labels)\n",
    "        self.log('test_accuracy', accuracy)\n",
    "        return loss\n",
    "    \n",
    "    def configure_optimizers(self):\n",
    "        optimizer = torch.optim.Adam(self.parameters(), lr=0.001)\n",
    "        return optimizer\n",
    "\n"
   ]
  },
  {
   "cell_type": "code",
   "execution_count": 109,
   "id": "7b6b8907-f0b1-4f13-aaff-70fe6364d2e8",
   "metadata": {
    "collapsed": true,
    "jupyter": {
     "outputs_hidden": true
    }
   },
   "outputs": [
    {
     "name": "stderr",
     "output_type": "stream",
     "text": [
      "GPU available: False, used: False\n",
      "TPU available: False, using: 0 TPU cores\n",
      "HPU available: False, using: 0 HPUs\n",
      "\n",
      "  | Name     | Type               | Params | Mode \n",
      "--------------------------------------------------------\n",
      "0 | fc1      | Linear             | 100 K  | train\n",
      "1 | fc2      | Linear             | 8.3 K  | train\n",
      "2 | fc3      | Linear             | 650    | train\n",
      "3 | accuracy | MulticlassAccuracy | 0      | train\n",
      "--------------------------------------------------------\n",
      "109 K     Trainable params\n",
      "0         Non-trainable params\n",
      "109 K     Total params\n",
      "0.438     Total estimated model params size (MB)\n",
      "4         Modules in train mode\n",
      "0         Modules in eval mode\n"
     ]
    },
    {
     "data": {
      "application/vnd.jupyter.widget-view+json": {
       "model_id": "01fba6ddde054f3995bb4df75d6c9482",
       "version_major": 2,
       "version_minor": 0
      },
      "text/plain": [
       "Training: |                                                                                      | 0/? [00:00<…"
      ]
     },
     "metadata": {},
     "output_type": "display_data"
    },
    {
     "name": "stderr",
     "output_type": "stream",
     "text": [
      "`Trainer.fit` stopped: `max_epochs=3` reached.\n"
     ]
    }
   ],
   "source": [
    "# 훈련\n",
    "model = MultiClassModel()\n",
    "trainer = Trainer(max_epochs=3, default_root_dir=log_dir)\n",
    "train_loader = DataLoader(train_dataset, batch_size=32, shuffle=True)\n",
    "trainer.fit(model, train_loader)\n"
   ]
  },
  {
   "cell_type": "code",
   "execution_count": 110,
   "id": "e1cba72a-bbec-4cae-b19e-264c83577667",
   "metadata": {},
   "outputs": [
    {
     "data": {
      "application/vnd.jupyter.widget-view+json": {
       "model_id": "3885857606ae4c96873ba8d24e104969",
       "version_major": 2,
       "version_minor": 0
      },
      "text/plain": [
       "Testing: |                                                                                       | 0/? [00:00<…"
      ]
     },
     "metadata": {},
     "output_type": "display_data"
    },
    {
     "data": {
      "text/html": [
       "<pre style=\"white-space:pre;overflow-x:auto;line-height:normal;font-family:Menlo,'DejaVu Sans Mono',consolas,'Courier New',monospace\">┏━━━━━━━━━━━━━━━━━━━━━━━━━━━┳━━━━━━━━━━━━━━━━━━━━━━━━━━━┓\n",
       "┃<span style=\"font-weight: bold\">        Test metric        </span>┃<span style=\"font-weight: bold\">       DataLoader 0        </span>┃\n",
       "┡━━━━━━━━━━━━━━━━━━━━━━━━━━━╇━━━━━━━━━━━━━━━━━━━━━━━━━━━┩\n",
       "│<span style=\"color: #008080; text-decoration-color: #008080\">       test_accuracy       </span>│<span style=\"color: #800080; text-decoration-color: #800080\">    0.8683642745018005     </span>│\n",
       "└───────────────────────────┴───────────────────────────┘\n",
       "</pre>\n"
      ],
      "text/plain": [
       "┏━━━━━━━━━━━━━━━━━━━━━━━━━━━┳━━━━━━━━━━━━━━━━━━━━━━━━━━━┓\n",
       "┃\u001b[1m \u001b[0m\u001b[1m       Test metric       \u001b[0m\u001b[1m \u001b[0m┃\u001b[1m \u001b[0m\u001b[1m      DataLoader 0       \u001b[0m\u001b[1m \u001b[0m┃\n",
       "┡━━━━━━━━━━━━━━━━━━━━━━━━━━━╇━━━━━━━━━━━━━━━━━━━━━━━━━━━┩\n",
       "│\u001b[36m \u001b[0m\u001b[36m      test_accuracy      \u001b[0m\u001b[36m \u001b[0m│\u001b[35m \u001b[0m\u001b[35m   0.8683642745018005    \u001b[0m\u001b[35m \u001b[0m│\n",
       "└───────────────────────────┴───────────────────────────┘\n"
      ]
     },
     "metadata": {},
     "output_type": "display_data"
    },
    {
     "data": {
      "text/plain": [
       "[{'test_accuracy': 0.8683642745018005}]"
      ]
     },
     "execution_count": 110,
     "metadata": {},
     "output_type": "execute_result"
    }
   ],
   "source": [
    "# 테스트\n",
    "test_loader = DataLoader(test_dataset, batch_size=32, shuffle=False)\n",
    "trainer.test(model, test_loader)\n"
   ]
  },
  {
   "cell_type": "code",
   "execution_count": 111,
   "id": "0572edf5-ffd5-41c2-abcc-9721264a4f2c",
   "metadata": {},
   "outputs": [
    {
     "data": {
      "text/plain": [
       "9"
      ]
     },
     "execution_count": 111,
     "metadata": {},
     "output_type": "execute_result"
    }
   ],
   "source": [
    "x, y = train_dataset[0]\n",
    "y"
   ]
  },
  {
   "cell_type": "code",
   "execution_count": 112,
   "id": "9852e834-f52d-49d0-8159-844893e89982",
   "metadata": {},
   "outputs": [],
   "source": [
    "logits = model(x)"
   ]
  },
  {
   "cell_type": "code",
   "execution_count": 114,
   "id": "1eef01d5-549c-4d2b-a856-f730f3e44d95",
   "metadata": {},
   "outputs": [
    {
     "name": "stderr",
     "output_type": "stream",
     "text": [
      "C:\\Users\\user\\AppData\\Local\\Temp\\ipykernel_3960\\620413588.py:1: UserWarning: Implicit dimension choice for softmax has been deprecated. Change the call to include dim=X as an argument.\n",
      "  probs = F.softmax(logits)\n"
     ]
    }
   ],
   "source": [
    "probs = F.softmax(logits)"
   ]
  },
  {
   "cell_type": "code",
   "execution_count": 115,
   "id": "5709a727-04c6-43d3-8055-1db531d95d4a",
   "metadata": {},
   "outputs": [
    {
     "data": {
      "text/plain": [
       "tensor([[1.0032e-08, 2.7575e-09, 4.6378e-09, 6.3175e-08, 2.8672e-08, 1.0074e-04,\n",
       "         1.0353e-08, 2.2905e-03, 9.0654e-08, 9.9761e-01]],\n",
       "       grad_fn=<SoftmaxBackward0>)"
      ]
     },
     "execution_count": 115,
     "metadata": {},
     "output_type": "execute_result"
    }
   ],
   "source": [
    "probs"
   ]
  },
  {
   "cell_type": "code",
   "execution_count": 120,
   "id": "f84ec578-53f1-4e9e-ab8e-cccd6da36501",
   "metadata": {},
   "outputs": [
    {
     "data": {
      "text/plain": [
       "tensor([0.8808])"
      ]
     },
     "execution_count": 120,
     "metadata": {},
     "output_type": "execute_result"
    }
   ],
   "source": [
    "import numpy as np\n",
    "F.sigmoid(torch.tensor([2]))"
   ]
  },
  {
   "cell_type": "code",
   "execution_count": 126,
   "id": "8d198548-d559-4e86-be29-383f8e3de3e7",
   "metadata": {},
   "outputs": [
    {
     "data": {
      "text/plain": [
       "tensor([[0.1192, 0.8808],\n",
       "        [0.1192, 0.8808]])"
      ]
     },
     "execution_count": 126,
     "metadata": {},
     "output_type": "execute_result"
    }
   ],
   "source": [
    "F.softmax(torch.tensor([0.0, 2.0]), dim=0)"
   ]
  }
 ],
 "metadata": {
  "kernelspec": {
   "display_name": "Python 3 (ipykernel)",
   "language": "python",
   "name": "python3"
  },
  "language_info": {
   "codemirror_mode": {
    "name": "ipython",
    "version": 3
   },
   "file_extension": ".py",
   "mimetype": "text/x-python",
   "name": "python",
   "nbconvert_exporter": "python",
   "pygments_lexer": "ipython3",
   "version": "3.12.3"
  }
 },
 "nbformat": 4,
 "nbformat_minor": 5
}
