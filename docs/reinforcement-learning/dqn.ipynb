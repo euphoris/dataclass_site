{
 "cells": [
  {
   "cell_type": "markdown",
   "metadata": {},
   "source": [
    "# 가치 기반 강화 학습"
   ]
  },
  {
   "cell_type": "markdown",
   "metadata": {},
   "source": [
    "## Stable Baselines"
   ]
  },
  {
   "cell_type": "code",
   "execution_count": null,
   "metadata": {},
   "outputs": [],
   "source": [
    "!pip install stable-baselines3[extra]"
   ]
  },
  {
   "cell_type": "markdown",
   "metadata": {},
   "source": [
    "## DQN"
   ]
  },
  {
   "cell_type": "code",
   "execution_count": 1,
   "metadata": {},
   "outputs": [],
   "source": [
    "#!hide\n",
    "import imageio\n",
    "import IPython\n",
    "import tqdm\n",
    "\n",
    "def render_episode(env, model, max_frame=1000):\n",
    "    state, _ = env.reset()\n",
    "    frames = []\n",
    "    done = False\n",
    "    for _ in tqdm.trange(max_frame): # 최대 프레임까지 진행\n",
    "        action, _state = model.predict(state, deterministic=True)\n",
    "        next_state, reward, terminated, truncated, _ = env.step(action)\n",
    "        if terminated or truncated:\n",
    "            break\n",
    "        state = next_state\n",
    "        frames.append(env.render())  # 프레임을 수집\n",
    "    imageio.mimsave('cartpole.gif', frames, fps=30) # 초당 30프레임으로 GIF 만들기\n",
    "    return IPython.display.Image('cartpole.gif') # GIF 보기"
   ]
  },
  {
   "cell_type": "code",
   "execution_count": null,
   "metadata": {},
   "outputs": [],
   "source": [
    "import gymnasium as gym\n",
    "from stable_baselines3 import DQN\n",
    "\n",
    "# 환경\n",
    "env = gym.make(\"CartPole-v1\", render_mode=\"rgb_array\")\n",
    "\n",
    "# 모델\n",
    "model = DQN(\"MlpPolicy\", env, verbose=1)\n",
    "\n",
    "# 총 1000회에 걸쳐  학습\n",
    "model.learn(total_timesteps=1000, log_interval=4, progress_bar=True)"
   ]
  },
  {
   "cell_type": "code",
   "execution_count": null,
   "metadata": {},
   "outputs": [],
   "source": [
    "# 애니메이션\n",
    "render_episode(env, model)"
   ]
  },
  {
   "cell_type": "code",
   "execution_count": null,
   "metadata": {},
   "outputs": [],
   "source": [
    "# 저장\n",
    "model.save(\"dqn_cartpole\")\n",
    "\n",
    "# 삭제\n",
    "del model\n",
    "\n",
    "# 불러오기\n",
    "model = DQN.load(\"dqn_cartpole\")"
   ]
  },
  {
   "cell_type": "markdown",
   "metadata": {},
   "source": [
    "## 퀴즈\n",
    "\n",
    "<iframe src=\"https://tally.so/embed/wMYXP8?alignLeft=1&hideTitle=1&transparentBackground=1&dynamicHeight=1\" loading=\"lazy\" width=\"100%\" height=\"1800\" frameborder=\"0\" marginheight=\"0\" marginwidth=\"0\" title=\"[RL] 가치기반 강화학습\"></iframe>"
   ]
  }
 ],
 "metadata": {
  "kernelspec": {
   "display_name": "Python 3 (ipykernel)",
   "language": "python",
   "name": "python3"
  },
  "language_info": {
   "codemirror_mode": {
    "name": "ipython",
    "version": 3
   },
   "file_extension": ".py",
   "mimetype": "text/x-python",
   "name": "python",
   "nbconvert_exporter": "python",
   "pygments_lexer": "ipython3",
   "version": "3.10.11"
  }
 },
 "nbformat": 4,
 "nbformat_minor": 2
}
