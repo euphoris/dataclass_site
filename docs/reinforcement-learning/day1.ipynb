{
 "cells": [
  {
   "cell_type": "markdown",
   "id": "a609aa42",
   "metadata": {},
   "source": [
    "## gym 설치"
   ]
  },
  {
   "cell_type": "code",
   "execution_count": null,
   "id": "07305178-e7da-4dea-a9a1-24ef1501c472",
   "metadata": {},
   "outputs": [],
   "source": [
    "!pip install gymnasium"
   ]
  },
  {
   "cell_type": "markdown",
   "id": "e26560a9",
   "metadata": {},
   "source": [
    "## 블랙잭"
   ]
  },
  {
   "cell_type": "code",
   "execution_count": 3,
   "id": "c10fc7c6-9bb6-43f1-8ed2-c37ce643dffe",
   "metadata": {},
   "outputs": [],
   "source": [
    "import gymnasium as gym"
   ]
  },
  {
   "cell_type": "code",
   "execution_count": 4,
   "id": "45e8a964-352e-473c-8ac3-0e13a250ec8e",
   "metadata": {},
   "outputs": [],
   "source": [
    "env = gym.make(\"Blackjack-v1\")"
   ]
  },
  {
   "cell_type": "code",
   "execution_count": 5,
   "id": "f9f825c2-02dc-412b-b506-5524fe651c53",
   "metadata": {},
   "outputs": [
    {
     "data": {
      "text/plain": [
       "(15, 2, 0)"
      ]
     },
     "execution_count": 5,
     "metadata": {},
     "output_type": "execute_result"
    }
   ],
   "source": [
    "obs, info = env.reset(seed=42) \n",
    "obs"
   ]
  },
  {
   "cell_type": "code",
   "execution_count": 6,
   "id": "0b3a17da-9a6d-47cb-bd08-c69746516f5b",
   "metadata": {},
   "outputs": [
    {
     "data": {
      "text/plain": [
       "1"
      ]
     },
     "execution_count": 6,
     "metadata": {},
     "output_type": "execute_result"
    }
   ],
   "source": [
    "action = env.action_space.sample() \n",
    "action"
   ]
  },
  {
   "cell_type": "code",
   "execution_count": 7,
   "id": "a3801c82-11f0-40b7-bcd3-79e38c1995c4",
   "metadata": {},
   "outputs": [
    {
     "name": "stdout",
     "output_type": "stream",
     "text": [
      "obs=(25, 2, 0) reward=-1.0 terminated=True truncated=False\n"
     ]
    }
   ],
   "source": [
    "obs, reward, terminated, truncated, info = env.step(action) \n",
    "print(f'{obs=} {reward=} {terminated=} {truncated=}')"
   ]
  },
  {
   "cell_type": "code",
   "execution_count": 21,
   "id": "f2c10cd8-2c9d-452e-b45d-2f041eaee1e7",
   "metadata": {},
   "outputs": [
    {
     "data": {
      "application/vnd.jupyter.widget-view+json": {
       "model_id": "42ec68e39fcd4f9190833059a9066d43",
       "version_major": 2,
       "version_minor": 0
      },
      "text/plain": [
       "  0%|          | 0/100 [00:00<?, ?it/s]"
      ]
     },
     "metadata": {},
     "output_type": "display_data"
    },
    {
     "data": {
      "text/plain": [
       "0.45"
      ]
     },
     "execution_count": 21,
     "metadata": {},
     "output_type": "execute_result"
    }
   ],
   "source": [
    "import tqdm.autonotebook as tqdm # 진행 막대 표시 라이브러리 \n",
    "import numpy as np # 수학계산 라이브러리\n",
    "returns = [] # 수익 저장 \n",
    "for i in tqdm.trange(100): # 100번 게임\n",
    "    obs, info = env.reset()\n",
    "    terminated = False \n",
    "    while not terminated: # 끝날 때까지 반복\n",
    "        action = env.action_space.sample()\n",
    "        obs, reward, terminated, truncated, info = env.step(action) \n",
    "    else: # 끝나면\n",
    "        returns.append(reward) # 마지막 보상을 수익으로 저장 \n",
    "np.mean(returns) # 평균 수익"
   ]
  },
  {
   "cell_type": "markdown",
   "id": "d3ae30d6",
   "metadata": {},
   "source": [
    "## 객체지향 프로그래밍"
   ]
  },
  {
   "cell_type": "code",
   "execution_count": 11,
   "id": "41822cb6-5da2-416a-a3cd-81453470d17a",
   "metadata": {},
   "outputs": [],
   "source": [
    "class Animal:\n",
    "    def __init__(self, name, age): # 생성자: self는 생성된 객체를 가리킴\n",
    "        self.name = name # 객체의 name 속성 값을 설정\n",
    "        self.age = age # 객체의 age 속성 값을 설정\n",
    "    def make_sound(self): # 객체의 메서드(함수) 정의\n",
    "        raise NotImplementedError # 사용시 구현되지 않았다는 에러 발생"
   ]
  },
  {
   "cell_type": "code",
   "execution_count": 12,
   "id": "1a1dfc72-4fc2-479d-9acc-007da3f4d765",
   "metadata": {},
   "outputs": [],
   "source": [
    "a = Animal('똘똘이', 3)"
   ]
  },
  {
   "cell_type": "code",
   "execution_count": 13,
   "id": "ef9e134d-23f5-49b8-aa10-16c67144d08b",
   "metadata": {},
   "outputs": [
    {
     "data": {
      "text/plain": [
       "3"
      ]
     },
     "execution_count": 13,
     "metadata": {},
     "output_type": "execute_result"
    }
   ],
   "source": [
    "a.age"
   ]
  },
  {
   "cell_type": "code",
   "execution_count": 14,
   "id": "cec3bbe4-d06f-4304-96bf-c4ea11da7050",
   "metadata": {},
   "outputs": [
    {
     "ename": "NotImplementedError",
     "evalue": "",
     "output_type": "error",
     "traceback": [
      "\u001b[1;31m---------------------------------------------------------------------------\u001b[0m",
      "\u001b[1;31mNotImplementedError\u001b[0m                       Traceback (most recent call last)",
      "Cell \u001b[1;32mIn[14], line 1\u001b[0m\n\u001b[1;32m----> 1\u001b[0m a\u001b[38;5;241m.\u001b[39mmake_sound()\n",
      "Cell \u001b[1;32mIn[11], line 6\u001b[0m, in \u001b[0;36mAnimal.make_sound\u001b[1;34m(self)\u001b[0m\n\u001b[0;32m      5\u001b[0m \u001b[38;5;28;01mdef\u001b[39;00m \u001b[38;5;21mmake_sound\u001b[39m(\u001b[38;5;28mself\u001b[39m): \u001b[38;5;66;03m# 객체의 메서드(함수) 정의\u001b[39;00m\n\u001b[1;32m----> 6\u001b[0m     \u001b[38;5;28;01mraise\u001b[39;00m \u001b[38;5;167;01mNotImplementedError\u001b[39;00m\n",
      "\u001b[1;31mNotImplementedError\u001b[0m: "
     ]
    }
   ],
   "source": [
    "a.make_sound()"
   ]
  },
  {
   "cell_type": "code",
   "execution_count": 15,
   "id": "105bcb7b-a192-433c-85b2-38ee1d3b8331",
   "metadata": {},
   "outputs": [],
   "source": [
    "class Dog(Animal): # Animal을 상속한 Dog를 정의\n",
    "    def __init__(self, name, age, breed):\n",
    "        super().__init__(name, age) # super() 함수로 객체의 부모 클래스에 접근 \n",
    "        self.breed = breed # 자식 클래스의 속성을 설정\n",
    "    def make_sound(self): # make sound 메서드를 새로 정의\n",
    "        return f\"{self.name} 멍멍\""
   ]
  },
  {
   "cell_type": "code",
   "execution_count": 16,
   "id": "51a70cb6-a19e-443b-9bca-58bd23b51818",
   "metadata": {},
   "outputs": [
    {
     "data": {
      "text/plain": [
       "'바우 멍멍'"
      ]
     },
     "execution_count": 16,
     "metadata": {},
     "output_type": "execute_result"
    }
   ],
   "source": [
    "d = Dog('바우', 5, '동네개')\n",
    "d.make_sound()"
   ]
  },
  {
   "cell_type": "markdown",
   "id": "1673f6df",
   "metadata": {},
   "source": [
    "## 밴딧 보행"
   ]
  },
  {
   "cell_type": "code",
   "execution_count": 17,
   "id": "ca053a96-cebb-45a5-bded-6e7e3fab160c",
   "metadata": {},
   "outputs": [],
   "source": [
    "class BanditWalk(gym.Env):\n",
    "    def __init__(self):\n",
    "        self.action_space = gym.spaces.Discrete(2) # 행동 공간 \n",
    "        self.observation_space = gym.spaces.Discrete(3) # 관찰 공간 \n",
    "        self.state = 1\n",
    "    def reset(self):\n",
    "        self.state = 1\n",
    "        return self.state, {}\n",
    "    def step(self, action):\n",
    "        if action == 0:\n",
    "            reward = 0 \n",
    "            self.state = 0\n",
    "        else:\n",
    "            reward = 1 \n",
    "            self.state = 2 \n",
    "        return self.state, reward, True, False, {}    "
   ]
  },
  {
   "cell_type": "code",
   "execution_count": null,
   "id": "1cda39a3-bacf-4ea9-8943-2d7c20bc7b93",
   "metadata": {},
   "outputs": [],
   "source": [
    "env = BanditWalk() # 환경만 새로 정의\n",
    "# 아래 코드는 블랙잭 것을 그대로 복사해서 사용\n",
    "returns = [] # 수익 저장 \n",
    "for i in tqdm.trange(100): # 100번 게임\n",
    "    obs, info = env.reset()\n",
    "    terminated = False \n",
    "    while not terminated: # 끝날 때까지 반복\n",
    "        action = env.action_space.sample()\n",
    "        obs, reward, terminated, truncated, info = env.step(action) \n",
    "    else: # 끝나면\n",
    "        returns.append(reward) # 마지막 보상을 수익으로 저장 \n",
    "np.mean(returns) # 평균 수익"
   ]
  },
  {
   "cell_type": "markdown",
   "id": "df44a6d1",
   "metadata": {},
   "source": [
    "## 밴딧 미끄러운 보행"
   ]
  },
  {
   "cell_type": "code",
   "execution_count": 22,
   "id": "522b0ec7-44e2-4b1b-9f21-c9c5adad70d8",
   "metadata": {},
   "outputs": [],
   "source": [
    "class BanditSlipperyWalk(BanditWalk):\n",
    "    def step(self, action):\n",
    "        x = np.random.random() # 0~1 사이의 난수 발생 \n",
    "        if action == 0:\n",
    "            self.state = 0 if x < 0.8 else 2\n",
    "        else:\n",
    "            self.state = 2 if x < 0.8 else 0 \n",
    "        reward = 0 if self.state == 0 else 1 \n",
    "        return self.state, reward, True, False, {}"
   ]
  },
  {
   "cell_type": "code",
   "execution_count": null,
   "id": "b0ab82de-9bb5-4021-9d66-4374b505ddcb",
   "metadata": {},
   "outputs": [],
   "source": [
    "env = BanditSlipperyWalk() # 환경만 새로 정의\n",
    "# 아래 코드는 블랙잭 것을 그대로 복사해서 사용\n",
    "returns = [] # 수익 저장 \n",
    "for i in tqdm.trange(100): # 100번 게임\n",
    "    obs, info = env.reset()\n",
    "    terminated = False \n",
    "    while not terminated: # 끝날 때까지 반복\n",
    "        action = env.action_space.sample()\n",
    "        obs, reward, terminated, truncated, info = env.step(action) \n",
    "    else: # 끝나면\n",
    "        returns.append(reward) # 마지막 보상을 수익으로 저장 \n",
    "np.mean(returns) # 평균 수익"
   ]
  },
  {
   "cell_type": "markdown",
   "id": "f67160ca",
   "metadata": {},
   "source": [
    "## 유사 난수"
   ]
  },
  {
   "cell_type": "code",
   "execution_count": null,
   "id": "6c08e7ec-da0a-406c-9343-d9291cd9772a",
   "metadata": {},
   "outputs": [],
   "source": [
    "x = 42"
   ]
  },
  {
   "cell_type": "code",
   "execution_count": 52,
   "id": "0fea03e5-b149-4cc4-8e0d-36698c01f249",
   "metadata": {},
   "outputs": [
    {
     "data": {
      "text/plain": [
       "2835"
      ]
     },
     "execution_count": 52,
     "metadata": {},
     "output_type": "execute_result"
    }
   ],
   "source": [
    "x = (2**31 - 1) * x % 7**5\n",
    "x"
   ]
  },
  {
   "cell_type": "code",
   "execution_count": 53,
   "id": "371ce192-4131-4422-9c40-f6b3ef6ccda3",
   "metadata": {},
   "outputs": [
    {
     "data": {
      "text/plain": [
       "16807"
      ]
     },
     "execution_count": 53,
     "metadata": {},
     "output_type": "execute_result"
    }
   ],
   "source": [
    "7**5"
   ]
  },
  {
   "cell_type": "markdown",
   "id": "9e1eacfc",
   "metadata": {},
   "source": [
    "## 프로즌 레이크"
   ]
  },
  {
   "cell_type": "code",
   "execution_count": null,
   "id": "0730225b-062a-44af-9b68-92fcb32e7ef0",
   "metadata": {},
   "outputs": [],
   "source": [
    "!pip install gymnasium[toy-text]"
   ]
  },
  {
   "cell_type": "code",
   "execution_count": 62,
   "id": "bfd078d9-35b3-436f-ac27-dcc4a757ad41",
   "metadata": {},
   "outputs": [
    {
     "data": {
      "image/jpeg": "[encoded data removed]",
      "image/png": "[encoded data removed]",
      "text/plain": [
       "<PIL.Image.Image image mode=RGB size=256x256>"
      ]
     },
     "execution_count": 62,
     "metadata": {},
     "output_type": "execute_result"
    }
   ],
   "source": [
    "from PIL import Image\n",
    "env = gym.make('FrozenLake-v1', render_mode=\"rgb_array\") # new_step_api=True은 삭제\n",
    "env.reset()\n",
    "frame = env.render() # [0]은 삭제\n",
    "Image.fromarray(frame)"
   ]
  },
  {
   "cell_type": "code",
   "execution_count": 63,
   "id": "60c8d7d0-ef3a-40df-806f-bfb356230141",
   "metadata": {},
   "outputs": [],
   "source": [
    "env.reset() \n",
    "frames = []\n",
    "frames.append(env.render()) # += 을 append로\n",
    "terminated = False\n",
    "while not terminated:\n",
    "    action = env.action_space.sample() \n",
    "    obs, reward, terminated, truncated, info = env.step(action) \n",
    "    frames.append(env.render())  # += 을 append로"
   ]
  },
  {
   "cell_type": "code",
   "execution_count": 64,
   "id": "0f5bc36e-4afd-4530-a76a-0b399acdd98a",
   "metadata": {},
   "outputs": [],
   "source": [
    "import imageio\n",
    "filename = 'animation.gif' \n",
    "imageio.mimsave(filename, frames, fps=2)"
   ]
  },
  {
   "cell_type": "code",
   "execution_count": 65,
   "id": "4e0f934e-d378-48b6-a1d2-501e65db4daa",
   "metadata": {},
   "outputs": [
    {
     "data": {
      "image/gif": "[encoded data removed]",
      "text/plain": [
       "<IPython.core.display.Image object>"
      ]
     },
     "execution_count": 65,
     "metadata": {},
     "output_type": "execute_result"
    }
   ],
   "source": [
    "from IPython.display import Image \n",
    "Image(filename)"
   ]
  }
 ],
 "metadata": {
  "kernelspec": {
   "display_name": "Python 3 (ipykernel)",
   "language": "python",
   "name": "python3"
  },
  "language_info": {
   "codemirror_mode": {
    "name": "ipython",
    "version": 3
   },
   "file_extension": ".py",
   "mimetype": "text/x-python",
   "name": "python",
   "nbconvert_exporter": "python",
   "pygments_lexer": "ipython3",
   "version": "3.12.4"
  }
 },
 "nbformat": 4,
 "nbformat_minor": 5
}
