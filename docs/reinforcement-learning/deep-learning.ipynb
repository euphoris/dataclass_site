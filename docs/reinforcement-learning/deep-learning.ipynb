{
 "cells": [
  {
   "cell_type": "markdown",
   "metadata": {},
   "source": [
    "# 딥러닝\n",
    "\n",
    "## PyTorch 설치\n",
    "\n",
    "```\n",
    "pip install torch torchvision\n",
    "```\n",
    "\n",
    "## 임포트"
   ]
  },
  {
   "cell_type": "code",
   "execution_count": 2,
   "metadata": {},
   "outputs": [],
   "source": [
    "import torch\n",
    "import torch.nn as nn\n",
    "import torch.optim as optim\n",
    "from torchvision import datasets, transforms\n",
    "from torch.utils.data import DataLoader"
   ]
  },
  {
   "cell_type": "markdown",
   "metadata": {},
   "source": [
    "## MNIST 데이터"
   ]
  },
  {
   "cell_type": "code",
   "execution_count": 3,
   "metadata": {},
   "outputs": [],
   "source": [
    "transform = transforms.ToTensor()\n",
    "\n",
    "train_dataset = datasets.MNIST(root='./data', train=True, download=True, transform=transform)\n",
    "test_dataset = datasets.MNIST(root='./data', train=False, download=True, transform=transform)\n",
    "\n",
    "train_loader = DataLoader(train_dataset, batch_size=64, shuffle=True)\n",
    "test_loader = DataLoader(test_dataset, batch_size=64, shuffle=False)"
   ]
  },
  {
   "cell_type": "code",
   "execution_count": 12,
   "metadata": {},
   "outputs": [
    {
     "name": "stdout",
     "output_type": "stream",
     "text": [
      "5\n"
     ]
    },
    {
     "data": {
      "image/png": "[encoded data removed]",
      "text/plain": [
       "<PIL.Image.Image image mode=L size=28x28>"
      ]
     },
     "execution_count": 12,
     "metadata": {},
     "output_type": "execute_result"
    }
   ],
   "source": [
    "from PIL import Image\n",
    "i = 0\n",
    "img, label = train_dataset[i]\n",
    "img = img.squeeze().numpy() * 255\n",
    "img = img.astype('uint8')\n",
    "print(label)\n",
    "Image.fromarray(img)"
   ]
  },
  {
   "cell_type": "markdown",
   "metadata": {},
   "source": [
    "## 모형 정의"
   ]
  },
  {
   "cell_type": "code",
   "execution_count": 13,
   "metadata": {},
   "outputs": [],
   "source": [
    "class SimpleNN(nn.Module):\n",
    "    def __init__(self):\n",
    "        super(SimpleNN, self).__init__()\n",
    "        self.fc1 = nn.Linear(28*28, 128) # 은닉층 1\n",
    "        self.fc2 = nn.Linear(128, 64) # 은닉층 2\n",
    "        self.fc3 = nn.Linear(64, 10) # 출력층\n",
    "\n",
    "    def forward(self, x):\n",
    "        x = x.view(-1, 28*28) # 모양을 평평하게\n",
    "        x = torch.relu(self.fc1(x)) # ReLU 활성화 함수로 비선형성을 추가\n",
    "        x = torch.relu(self.fc2(x))\n",
    "        x = self.fc3(x)\n",
    "        return x"
   ]
  },
  {
   "cell_type": "markdown",
   "metadata": {},
   "source": [
    "## 모형 학습"
   ]
  },
  {
   "cell_type": "code",
   "execution_count": 14,
   "metadata": {},
   "outputs": [
    {
     "name": "stdout",
     "output_type": "stream",
     "text": [
      "Epoch 1/5, Loss: 0.1040\n",
      "Epoch 2/5, Loss: 0.1420\n",
      "Epoch 3/5, Loss: 0.0576\n",
      "Epoch 4/5, Loss: 0.1996\n",
      "Epoch 5/5, Loss: 0.0789\n"
     ]
    }
   ],
   "source": [
    "model = SimpleNN()\n",
    "criterion = nn.CrossEntropyLoss()  # 손실 함수\n",
    "optimizer = optim.Adam(model.parameters(), lr=0.001)  # 최적화 알고리즘\n",
    "\n",
    "num_epochs = 5\n",
    "for epoch in range(num_epochs):\n",
    "    for images, labels in train_loader:\n",
    "        optimizer.zero_grad() # 경사 초기화\n",
    "        outputs = model(images) # 모형에 이미지 입력\n",
    "        loss = criterion(outputs, labels) # 손실 계산\n",
    "        loss.backward() # 역전파 알고리즘으로 경사 계산\n",
    "        optimizer.step() # 파라미터 최적화\n",
    "\n",
    "    print(f'Epoch {epoch+1}/{num_epochs}, Loss: {loss.item():.4f}')\n"
   ]
  },
  {
   "cell_type": "markdown",
   "metadata": {},
   "source": [
    "## 모형 평가"
   ]
  },
  {
   "cell_type": "code",
   "execution_count": 15,
   "metadata": {},
   "outputs": [
    {
     "name": "stdout",
     "output_type": "stream",
     "text": [
      "Test Accuracy: 97.61%\n"
     ]
    }
   ],
   "source": [
    "correct = 0\n",
    "total = 0\n",
    "with torch.no_grad():  # 경사 계산 안함(학습에 사용하지 않으므로 필요 X)\n",
    "    for images, labels in test_loader:\n",
    "        outputs = model(images)  # 각 클래스의 확률 예측\n",
    "        _, predicted = torch.max(outputs, 1)  # 확률이 가장 높은 클래스\n",
    "        total += labels.size(0)  # 레이블 개수를 총 개수에 추가 \n",
    "        correct += (predicted == labels).sum().item()  # 예측된 클래스와 레이블이 일치하는 개수\n",
    "\n",
    "print(f'Test Accuracy: {100 * correct / total:.2f}%')\n"
   ]
  },
  {
   "cell_type": "markdown",
   "metadata": {},
   "source": [
    "## PyTorch Lightning"
   ]
  },
  {
   "cell_type": "code",
   "execution_count": null,
   "metadata": {},
   "outputs": [],
   "source": [
    "!pip install lightning"
   ]
  },
  {
   "cell_type": "markdown",
   "metadata": {},
   "source": [
    "모형 재정의"
   ]
  },
  {
   "cell_type": "code",
   "execution_count": 25,
   "metadata": {},
   "outputs": [],
   "source": [
    "import torch.nn.functional as F\n",
    "import pytorch_lightning as pl\n",
    "from torchmetrics.classification import MulticlassAccuracy\n",
    "\n",
    "class SimpleNN(pl.LightningModule):\n",
    "    def __init__(self):\n",
    "        super(SimpleNN, self).__init__()\n",
    "        self.fc1 = nn.Linear(28*28, 128) # 은닉층 1\n",
    "        self.fc2 = nn.Linear(128, 64) # 은닉층 2\n",
    "        self.fc3 = nn.Linear(64, 10) # 출력층\n",
    "        self.accuracy = MulticlassAccuracy(10)\n",
    "\n",
    "    def forward(self, x):\n",
    "        x = x.view(-1, 28*28) # 모양을 평평하게\n",
    "        x = torch.relu(self.fc1(x)) # ReLU 활성화 함수로 비선형성을 추가\n",
    "        x = torch.relu(self.fc2(x))\n",
    "        x = self.fc3(x)\n",
    "        return x\n",
    "\n",
    "    def process_batch(self, batch):\n",
    "        images, labels = batch\n",
    "        outputs = self(images)\n",
    "        loss = F.cross_entropy(outputs, labels)\n",
    "        return outputs, loss\n",
    "\n",
    "    def training_step(self, batch, batch_idx):\n",
    "        outputs, loss = self.process_batch(batch)\n",
    "        self.log('train_loss', loss)\n",
    "        return loss\n",
    "\n",
    "    def test_step(self, batch, batch_idx):\n",
    "        outputs, loss = self.process_batch(batch)\n",
    "        accuracy = self.accuracy(outputs, batch[1])\n",
    "        self.log('test_accuracy', accuracy)\n",
    "        return loss\n",
    "\n",
    "    def configure_optimizers(self):\n",
    "        optimizer = torch.optim.Adam(self.parameters(), lr=0.001)\n",
    "        return optimizer"
   ]
  },
  {
   "cell_type": "markdown",
   "metadata": {},
   "source": [
    "학습"
   ]
  },
  {
   "cell_type": "code",
   "execution_count": null,
   "metadata": {},
   "outputs": [],
   "source": [
    "from pytorch_lightning import Trainer\n",
    "model = SimpleNN()\n",
    "trainer = Trainer(max_epochs=5)\n",
    "trainer.fit(model, train_loader)\n"
   ]
  },
  {
   "cell_type": "markdown",
   "metadata": {},
   "source": [
    "테스트"
   ]
  },
  {
   "cell_type": "code",
   "execution_count": null,
   "metadata": {},
   "outputs": [],
   "source": [
    "trainer.test(model, test_loader)"
   ]
  }
 ],
 "metadata": {
  "kernelspec": {
   "display_name": "base",
   "language": "python",
   "name": "python3"
  },
  "language_info": {
   "codemirror_mode": {
    "name": "ipython",
    "version": 3
   },
   "file_extension": ".py",
   "mimetype": "text/x-python",
   "name": "python",
   "nbconvert_exporter": "python",
   "pygments_lexer": "ipython3",
   "version": "3.10.11"
  }
 },
 "nbformat": 4,
 "nbformat_minor": 2
}
