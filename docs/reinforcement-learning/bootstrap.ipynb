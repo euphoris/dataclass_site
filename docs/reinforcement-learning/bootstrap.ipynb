{
 "cells": [
  {
   "cell_type": "markdown",
   "metadata": {},
   "source": [
    "# 부트스트랩\n"
   ]
  },
  {
   "cell_type": "markdown",
   "metadata": {},
   "source": [
    "## SlipperyWalk"
   ]
  },
  {
   "cell_type": "code",
   "execution_count": 1,
   "metadata": {},
   "outputs": [],
   "source": [
    "import gymnasium as gym\n",
    "import numpy as np\n",
    "\n",
    "class SlipperyWalk(gym.Env):\n",
    "    def __init__(self, length):\n",
    "        super().__init__()\n",
    "\n",
    "        self.action_space = gym.spaces.Discrete(2)\n",
    "        self.observation_space = gym.spaces.Discrete(length)\n",
    "\n",
    "        self.start_state = length // 2  # 2로 나눈 몫\n",
    "        self.state = self.start_state\n",
    "        self.done = False\n",
    "        self.truncated = False\n",
    "        self.length = length\n",
    "        self.P = self.set_transition()\n",
    "\n",
    "    def set_transition(self):\n",
    "        P = {}\n",
    "        transition_probs = {'MOVE': 1/2, 'STAY': 1/3, 'OPPOSITE': 1/6}\n",
    "        goal = self.length - 1\n",
    "\n",
    "        for s in range(self.length):\n",
    "            P[s] = {}\n",
    "            for a in range(2):\n",
    "                if s == 0:\n",
    "                    P[s][a] = [(1.0, s, 0, True)]  # 확률, 상태, 보상, 종료 여부\n",
    "                elif s == goal:\n",
    "                    P[s][a] = [(1.0, s, 1, True)]\n",
    "                else:\n",
    "                    transitions = []\n",
    "                    for transition, prob in transition_probs.items():\n",
    "                        if transition == 'MOVE':\n",
    "                            next_state = s + 1 if a == 1 else s - 1\n",
    "                        elif transition == 'STAY':\n",
    "                            next_state = s\n",
    "                        elif transition == 'OPPOSITE':\n",
    "                            next_state = s - 1 if a == 1 else s + 1\n",
    "                        next_state = max(0, min(goal, next_state))   # 범위 제한 표현\n",
    "                        reward = 1 if next_state == goal else 0      # 삼항 연산자\n",
    "                        done = next_state == 0 or next_state == goal\n",
    "                        transitions.append((prob, next_state, reward, done))\n",
    "                    P[s][a] = transitions\n",
    "\n",
    "        return P\n",
    "\n",
    "    def reset(self):\n",
    "        self.state = self.start_state\n",
    "        self.done = False\n",
    "        self.truncated = False\n",
    "        self.steps = 0\n",
    "        return self.state, {}\n",
    "\n",
    "    def step(self, action):\n",
    "        transitions = self.P[self.state][action]\n",
    "        probs = np.array([t[0] for t in transitions])\n",
    "        i = np.random.choice(np.arange(len(transitions)), p=probs)\n",
    "        _, self.state, reward, self.done = transitions[i]\n",
    "        self.steps += 1\n",
    "        self.truncated = self.steps >= 100\n",
    "        return self.state, reward, self.done, self.truncated, {}\n",
    "\n",
    "    def render(self, mode='human'):\n",
    "        grid = ['X'] + ([' '] * (self.length - 2)) + ['O']  # 리스트 연산\n",
    "        grid[self.state] = 'A'\n",
    "        print('|' + '|'.join(grid) + '|') # 문자열 연산\n",
    "\n",
    "    @property\n",
    "    def unwrapped(self):\n",
    "        return self\n"
   ]
  },
  {
   "cell_type": "markdown",
   "metadata": {},
   "source": [
    "환경 생성"
   ]
  },
  {
   "cell_type": "code",
   "execution_count": 2,
   "metadata": {},
   "outputs": [],
   "source": [
    "env = SlipperyWalk(9)"
   ]
  },
  {
   "cell_type": "markdown",
   "metadata": {},
   "source": [
    "리셋"
   ]
  },
  {
   "cell_type": "code",
   "execution_count": 3,
   "metadata": {},
   "outputs": [
    {
     "data": {
      "text/plain": [
       "(4, {})"
      ]
     },
     "execution_count": 3,
     "metadata": {},
     "output_type": "execute_result"
    }
   ],
   "source": [
    "env.reset()"
   ]
  },
  {
   "cell_type": "markdown",
   "metadata": {},
   "source": [
    "왼쪽으로 한 걸음"
   ]
  },
  {
   "cell_type": "code",
   "execution_count": 4,
   "metadata": {},
   "outputs": [
    {
     "data": {
      "text/plain": [
       "(3, 0, False, False, {})"
      ]
     },
     "execution_count": 4,
     "metadata": {},
     "output_type": "execute_result"
    }
   ],
   "source": [
    "env.step(0)"
   ]
  },
  {
   "cell_type": "markdown",
   "metadata": {},
   "source": [
    "그리기"
   ]
  },
  {
   "cell_type": "code",
   "execution_count": 5,
   "metadata": {},
   "outputs": [
    {
     "name": "stdout",
     "output_type": "stream",
     "text": [
      "|X| | |A| | | | |O|\n"
     ]
    }
   ],
   "source": [
    "env.render()"
   ]
  },
  {
   "cell_type": "markdown",
   "metadata": {},
   "source": [
    "## 정책 평가"
   ]
  },
  {
   "cell_type": "code",
   "execution_count": 6,
   "metadata": {},
   "outputs": [],
   "source": [
    "def policy_evaluation(pi, P, gamma=1.0, theta=1e-10):\n",
    "    nS = len(P)  # 상태의 수\n",
    "    prev_V = np.zeros(nS)  # ns와 크기가 같은 영(0)벡터\n",
    "    while True:\n",
    "        V = np.zeros_like(prev_V)  # prev_V와 모양이 같은 영벡터\n",
    "        for s in range(nS):\n",
    "            for prob, next_state, reward, done in P[s][pi[s]]:\n",
    "                rtrn = reward + gamma * prev_V[next_state] * (not done)\n",
    "                V[s] += prob * rtrn\n",
    "        if np.max(np.abs(prev_V - V)) < theta: # 기존 V와 차이가 작으면 중단\n",
    "            break\n",
    "        prev_V = V.copy()\n",
    "    return V\n"
   ]
  },
  {
   "cell_type": "markdown",
   "metadata": {},
   "source": [
    "무조건 왼쪽으로 걷는 정책"
   ]
  },
  {
   "cell_type": "code",
   "execution_count": 7,
   "metadata": {},
   "outputs": [],
   "source": [
    "LEFT, RIGHT = 0, 1\n",
    "pi = {\n",
    "    s: LEFT\n",
    "    for s in range(env.observation_space.n)\n",
    "}"
   ]
  },
  {
   "cell_type": "markdown",
   "metadata": {},
   "source": [
    "평가"
   ]
  },
  {
   "cell_type": "code",
   "execution_count": 8,
   "metadata": {},
   "outputs": [
    {
     "data": {
      "text/plain": [
       "array([0.00000000e+00, 3.04878027e-04, 1.21951212e-03, 3.96341448e-03,\n",
       "       1.21951217e-02, 3.68902434e-02, 1.10975609e-01, 3.33231707e-01,\n",
       "       1.00000000e+00])"
      ]
     },
     "execution_count": 8,
     "metadata": {},
     "output_type": "execute_result"
    }
   ],
   "source": [
    "V = policy_evaluation(pi, env.P)\n",
    "V"
   ]
  },
  {
   "cell_type": "markdown",
   "metadata": {},
   "source": [
    "## 정책 반복법 "
   ]
  },
  {
   "cell_type": "code",
   "execution_count": 9,
   "metadata": {},
   "outputs": [],
   "source": [
    "def policy_improvement(V, P, gamma=1.0):\n",
    "    nS = len(P) \n",
    "    nA = len(P[0])  # 행동의 수\n",
    "    Q = np.zeros((nS,nA))\n",
    "    for s in range(nS):\n",
    "        for a in range(nA):\n",
    "            for prob, next_state, reward, done in P[s][a]:\n",
    "                rtrn = reward + gamma * V[next_state] * (not done)\n",
    "                Q[s][a] += prob * rtrn\n",
    "    new_pi = {s:a for s, a in enumerate(np.argmax(Q, axis=1))}\n",
    "    return new_pi"
   ]
  },
  {
   "cell_type": "markdown",
   "metadata": {},
   "source": [
    "평가된 가치를 바탕으로 정책 개선"
   ]
  },
  {
   "cell_type": "code",
   "execution_count": 10,
   "metadata": {},
   "outputs": [
    {
     "data": {
      "text/plain": [
       "{0: 0, 1: 1, 2: 1, 3: 1, 4: 1, 5: 1, 6: 1, 7: 1, 8: 0}"
      ]
     },
     "execution_count": 10,
     "metadata": {},
     "output_type": "execute_result"
    }
   ],
   "source": [
    "improved_pi = policy_improvement(V, env.P)\n",
    "improved_pi"
   ]
  },
  {
   "cell_type": "markdown",
   "metadata": {},
   "source": [
    "개선된 정책의 평가"
   ]
  },
  {
   "cell_type": "code",
   "execution_count": 11,
   "metadata": {},
   "outputs": [
    {
     "data": {
      "text/plain": [
       "array([0.        , 0.66676829, 0.88902439, 0.96310976, 0.98780488,\n",
       "       0.99603659, 0.99878049, 0.99969512, 1.        ])"
      ]
     },
     "execution_count": 11,
     "metadata": {},
     "output_type": "execute_result"
    }
   ],
   "source": [
    "improved_V = policy_evaluation(improved_pi, env.P)\n",
    "improved_V"
   ]
  },
  {
   "cell_type": "markdown",
   "metadata": {},
   "source": [
    "정책 반복"
   ]
  },
  {
   "cell_type": "code",
   "execution_count": 13,
   "metadata": {},
   "outputs": [],
   "source": [
    "def policy_iteration(env, gamma=1.0, theta=1e-10):\n",
    "    pi = random_policy(env)\n",
    "    P = env.unwrapped.P\n",
    "    while True:\n",
    "        old_pi = dict(pi)\n",
    "        V = policy_evaluation(pi, P, gamma, theta)\n",
    "        pi = policy_improvement(V, P, gamma)\n",
    "        if old_pi == pi:\n",
    "            break\n",
    "    return V, pi\n"
   ]
  },
  {
   "cell_type": "code",
   "execution_count": 14,
   "metadata": {},
   "outputs": [
    {
     "data": {
      "text/plain": [
       "(array([0.        , 0.66676829, 0.88902439, 0.96310976, 0.98780488,\n",
       "        0.99603659, 0.99878049, 0.99969512, 1.        ]),\n",
       " {0: 0, 1: 1, 2: 1, 3: 1, 4: 1, 5: 1, 6: 1, 7: 1, 8: 0})"
      ]
     },
     "execution_count": 14,
     "metadata": {},
     "output_type": "execute_result"
    }
   ],
   "source": [
    "def random_policy(env):\n",
    "    return {s: env.action_space.sample() \n",
    "            for s in range(env.observation_space.n)}\n",
    "\n",
    "policy_iteration(env)"
   ]
  },
  {
   "cell_type": "markdown",
   "metadata": {},
   "source": [
    "### FrozenLake 환경에서 실험"
   ]
  },
  {
   "cell_type": "code",
   "execution_count": 15,
   "metadata": {},
   "outputs": [],
   "source": [
    "env = gym.make('FrozenLake-v1', render_mode=\"rgb_array\")\n",
    "\n",
    "def print_policy(pi, n_rows, n_cols, action_symbols):\n",
    "    for i in range(n_rows):\n",
    "        for j in range(n_cols):\n",
    "            action = pi[i * n_cols + j]\n",
    "            print(action_symbols[action], end=' ')\n",
    "        print()\n"
   ]
  },
  {
   "cell_type": "code",
   "execution_count": 16,
   "metadata": {},
   "outputs": [],
   "source": [
    "import tqdm\n",
    "\n",
    "def count_success(pi, env):\n",
    "    total_reward = 0\n",
    "    for _ in tqdm.trange(100):\n",
    "        state, _ = env.reset()\n",
    "        terminated = False\n",
    "        while not terminated:\n",
    "            action = pi[state]\n",
    "            state, reward, terminated, truncated, info = env.step(action)\n",
    "        else:\n",
    "            total_reward += reward\n",
    "    return total_reward / 100\n"
   ]
  },
  {
   "cell_type": "markdown",
   "metadata": {},
   "source": [
    "무작위 정책"
   ]
  },
  {
   "cell_type": "code",
   "execution_count": 17,
   "metadata": {},
   "outputs": [
    {
     "name": "stdout",
     "output_type": "stream",
     "text": [
      "↓ → ↑ → \n",
      "↑ ↑ ↓ ↓ \n",
      "← ← ↑ ↓ \n",
      "↑ ↓ ↑ ↓ \n"
     ]
    },
    {
     "name": "stderr",
     "output_type": "stream",
     "text": [
      "100%|██████████| 100/100 [00:00<00:00, 11743.49it/s]\n"
     ]
    },
    {
     "data": {
      "text/plain": [
       "0.0"
      ]
     },
     "execution_count": 17,
     "metadata": {},
     "output_type": "execute_result"
    }
   ],
   "source": [
    "pi = random_policy(env)\n",
    "print_policy(pi, 4, 4, '←↓→↑')\n",
    "count_success(pi, env)"
   ]
  },
  {
   "cell_type": "markdown",
   "metadata": {},
   "source": [
    "정책 반복으로 개선된 정책"
   ]
  },
  {
   "cell_type": "code",
   "execution_count": 18,
   "metadata": {},
   "outputs": [
    {
     "name": "stdout",
     "output_type": "stream",
     "text": [
      "← ↑ ↑ ↑ \n",
      "← ← ← ← \n",
      "↑ ↓ ← ← \n",
      "← → ↓ ← \n"
     ]
    },
    {
     "name": "stderr",
     "output_type": "stream",
     "text": [
      "100%|██████████| 100/100 [00:00<00:00, 3106.52it/s]\n"
     ]
    },
    {
     "data": {
      "text/plain": [
       "0.82"
      ]
     },
     "execution_count": 18,
     "metadata": {},
     "output_type": "execute_result"
    }
   ],
   "source": [
    "V, pi = policy_iteration(env)\n",
    "print_policy(pi, 4, 4, '←↓→↑')\n",
    "count_success(pi, env)"
   ]
  },
  {
   "cell_type": "markdown",
   "metadata": {},
   "source": [
    "### CliffWalking으로 실험"
   ]
  },
  {
   "cell_type": "code",
   "execution_count": 19,
   "metadata": {},
   "outputs": [
    {
     "name": "stdout",
     "output_type": "stream",
     "text": [
      "→ → → → → → → → → → → ↓ \n",
      "→ → → → → → → → → → → ↓ \n",
      "→ → → → → → → → → → → ↓ \n",
      "↑ ↑ ↑ ↑ ↑ ↑ ↑ ↑ ↑ ↑ → → \n"
     ]
    }
   ],
   "source": [
    "env = gym.make(\"CliffWalking-v0\", render_mode=\"rgb_array\")\n",
    "V, pi = policy_iteration(env, 0.9)\n",
    "print_policy(pi, 4, 12, '↑→↓←')"
   ]
  },
  {
   "cell_type": "code",
   "execution_count": 22,
   "metadata": {},
   "outputs": [
    {
     "data": {
      "image/gif": "[encoded data removed]",
      "text/plain": [
       "<IPython.core.display.Image object>"
      ]
     },
     "execution_count": 22,
     "metadata": {},
     "output_type": "execute_result"
    }
   ],
   "source": [
    "import imageio\n",
    "from IPython.display import Image\n",
    "\n",
    "state, _ = env.reset()\n",
    "frames = []\n",
    "frames.append(env.render())\n",
    "terminated = False\n",
    "while not terminated:\n",
    "    action = pi[state]\n",
    "    state, reward, terminated, truncated, info = env.step(action)\n",
    "    frames.append(env.render())\n",
    "filename = 'animation.gif'\n",
    "imageio.mimsave(filename, frames, fps=2)\n",
    "Image(filename)"
   ]
  },
  {
   "cell_type": "markdown",
   "metadata": {},
   "source": [
    "## 가치 반복"
   ]
  },
  {
   "cell_type": "code",
   "execution_count": 24,
   "metadata": {},
   "outputs": [],
   "source": [
    "def value_iteration(env, gamma=1.0, theta=1e-10):\n",
    "    P = env.unwrapped.P\n",
    "    nS = env.observation_space.n\n",
    "    nA = env.action_space.n\n",
    "    V = np.zeros(nS)\n",
    "    while True:\n",
    "        Q = np.zeros((nS, nA))\n",
    "        for s in range(nS):\n",
    "            for a in range(nA):\n",
    "                for prob, next_state, reward, done in P[s][a]:\n",
    "                    Q[s][a] += prob * (reward + gamma * V[next_state] * (not done))\n",
    "        if np.max(np.abs(V - np.max(Q, axis=1))) < theta:\n",
    "            break\n",
    "        V = np.max(Q, axis=1)\n",
    "        pi = {s:a for s, a in enumerate(np.argmax(Q, axis=1))}\n",
    "    return V, pi\n"
   ]
  },
  {
   "cell_type": "code",
   "execution_count": 25,
   "metadata": {},
   "outputs": [
    {
     "name": "stdout",
     "output_type": "stream",
     "text": [
      "↑ → → → → → → → → → → ↓ \n",
      "→ → → → → → → → → → → ↓ \n",
      "→ → → → → → → → → → → ↓ \n",
      "↑ ↑ ↑ ↑ ↑ ↑ ↑ ↑ ↑ ↑ → → \n"
     ]
    }
   ],
   "source": [
    "V, pi = value_iteration(env)\n",
    "print_policy(pi, 4, 12, '↑→↓←')"
   ]
  },
  {
   "cell_type": "markdown",
   "metadata": {},
   "source": [
    "## 퀴즈\n",
    "\n",
    "<iframe src=\"https://tally.so/embed/mRR7BP?alignLeft=1&hideTitle=1&transparentBackground=1&dynamicHeight=1\" loading=\"lazy\" width=\"100%\" height=\"1900\" frameborder=\"0\" marginheight=\"0\" marginwidth=\"0\" title=\"[RL] 가치\"></iframe>"
   ]
  }
 ],
 "metadata": {
  "kernelspec": {
   "display_name": "base",
   "language": "python",
   "name": "python3"
  },
  "language_info": {
   "codemirror_mode": {
    "name": "ipython",
    "version": 3
   },
   "file_extension": ".py",
   "mimetype": "text/x-python",
   "name": "python",
   "nbconvert_exporter": "python",
   "pygments_lexer": "ipython3",
   "version": "3.10.11"
  }
 },
 "nbformat": 4,
 "nbformat_minor": 2
}
