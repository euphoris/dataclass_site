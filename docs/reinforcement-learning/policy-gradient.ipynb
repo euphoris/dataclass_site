{
 "cells": [
  {
   "cell_type": "markdown",
   "metadata": {},
   "source": [
    "# 정책경사\n",
    "\n",
    "## 정책망"
   ]
  },
  {
   "cell_type": "code",
   "execution_count": 7,
   "metadata": {},
   "outputs": [],
   "source": [
    "import torch\n",
    "import torch.nn as nn\n",
    "import torch.optim as optim\n",
    "import tqdm\n",
    "\n",
    "class PolicyNetwork(nn.Module):\n",
    "    def __init__(self, input_dim, output_dim):\n",
    "        super(PolicyNetwork, self).__init__()\n",
    "        self.fc1 = nn.Linear(input_dim, 64)\n",
    "        self.fc2 = nn.Linear(64, 64)\n",
    "        self.fc3 = nn.Linear(64, output_dim)\n",
    "\n",
    "    def forward(self, x):\n",
    "        x = torch.relu(self.fc1(x))\n",
    "        x = torch.relu(self.fc2(x))\n",
    "        return torch.softmax(self.fc3(x), dim=-1)"
   ]
  },
  {
   "cell_type": "markdown",
   "metadata": {},
   "source": [
    "## REINFORCE"
   ]
  },
  {
   "cell_type": "code",
   "execution_count": 2,
   "metadata": {},
   "outputs": [],
   "source": [
    "class ReinforceAgent:\n",
    "    def __init__(self, env, gamma=0.99, learning_rate=0.001, update_timestep=2000):\n",
    "        self.env = env\n",
    "        self.gamma = gamma\n",
    "        self.update_timestep = update_timestep\n",
    "        self.policy_network = PolicyNetwork(env.observation_space.shape[0], env.action_space.n)\n",
    "        self.optimizer_policy = optim.Adam(self.policy_network.parameters(), lr=learning_rate)\n",
    "        self.policy_old = PolicyNetwork(env.observation_space.shape[0], env.action_space.n)\n",
    "        self.policy_old.load_state_dict(self.policy_network.state_dict())\n",
    "        self.eps_clip = 0.2\n",
    "        self.K_epochs = 4\n",
    "\n",
    "    def select_action(self, state):\n",
    "        state = torch.FloatTensor(state).unsqueeze(0)\n",
    "        probabilities = self.policy_network(state)\n",
    "        action = torch.multinomial(probabilities, 1).item()\n",
    "        return action, probabilities[:, action].item()\n",
    "\n",
    "    def compute_returns(self, rewards, dones):\n",
    "        returns = []\n",
    "        R = 0\n",
    "        for reward, done in zip(reversed(rewards), reversed(dones)):\n",
    "            if done:\n",
    "                R = 0\n",
    "            R = reward + self.gamma * R\n",
    "            returns.insert(0, R)\n",
    "        return returns\n",
    "\n",
    "    def update_policy(self, trajectories):\n",
    "        for states, actions, rewards, dones in trajectories:\n",
    "            returns = self.compute_returns(rewards, dones)\n",
    "            returns = torch.FloatTensor(returns)\n",
    "            states = torch.FloatTensor(states)\n",
    "            actions = torch.LongTensor(actions)\n",
    "\n",
    "            log_probs = torch.log(torch.stack([self.policy_network(state)[action] \n",
    "                                for state, action in zip(states, actions)]))\n",
    "            loss = -log_probs * returns\n",
    "            loss = loss.mean()\n",
    "\n",
    "            self.optimizer_policy.zero_grad()\n",
    "            loss.backward()\n",
    "            self.optimizer_policy.step()\n",
    "\n",
    "    def train(self, num_episodes):\n",
    "        timestep = 0\n",
    "        trajectories = []\n",
    "        for episode in tqdm.trange(num_episodes):\n",
    "            state, _ = self.env.reset()\n",
    "            done = False\n",
    "            states, actions, rewards, dones = [], [], [], []\n",
    "            while not done:\n",
    "                action, _ = self.select_action(state)\n",
    "                next_state, reward, done, _, _ = self.env.step(action)\n",
    "                states.append(state)\n",
    "                actions.append(action)\n",
    "                rewards.append(reward)\n",
    "                dones.append(done)\n",
    "                state = next_state\n",
    "                timestep += 1\n",
    "                if timestep % self.update_timestep == 0:\n",
    "                    trajectories.append((states, actions, rewards, dones))\n",
    "                    self.update_policy(trajectories)\n",
    "                    trajectories = []\n",
    "                    \n",
    "    def evaluate_policy(env, agent, num_episodes=10):\n",
    "        total_reward = 0\n",
    "        for _ in range(num_episodes):\n",
    "            state, _ = env.reset()\n",
    "            done = False\n",
    "            steps = 0\n",
    "            while not done and steps < 1000:\n",
    "                steps += 1\n",
    "                action, _ = agent.select_action(state)\n",
    "                next_state, reward, done, _, _ = env.step(action)\n",
    "                total_reward += reward\n",
    "                state = next_state\n",
    "        return total_reward / num_episodes"
   ]
  },
  {
   "cell_type": "markdown",
   "metadata": {},
   "source": [
    "## 실험"
   ]
  },
  {
   "cell_type": "code",
   "execution_count": 3,
   "metadata": {},
   "outputs": [],
   "source": [
    "def evaluate_policy(env, agent, num_episodes=10):\n",
    "    total_reward = 0\n",
    "    for _ in range(num_episodes):\n",
    "        state, _ = env.reset()\n",
    "        done = False\n",
    "        steps = 0\n",
    "        while not done and steps < 1000:\n",
    "            steps += 1\n",
    "            action, _ = agent.select_action(state)\n",
    "            next_state, reward, done, _, _ = env.step(action)\n",
    "            total_reward += reward\n",
    "            state = next_state\n",
    "    return total_reward / num_episodes"
   ]
  },
  {
   "cell_type": "markdown",
   "metadata": {},
   "source": [
    "초기화된 상태로 평가"
   ]
  },
  {
   "cell_type": "code",
   "execution_count": 5,
   "metadata": {},
   "outputs": [
    {
     "data": {
      "text/plain": [
       "25.9"
      ]
     },
     "execution_count": 5,
     "metadata": {},
     "output_type": "execute_result"
    }
   ],
   "source": [
    "import gymnasium as gym\n",
    "env = gym.make(\"CartPole-v1\", render_mode=\"rgb_array\")\n",
    "\n",
    "reinforce_agent = ReinforceAgent(env)\n",
    "evaluate_policy(env, reinforce_agent)"
   ]
  },
  {
   "cell_type": "markdown",
   "metadata": {},
   "source": [
    "50개 에피소드 후 평가"
   ]
  },
  {
   "cell_type": "code",
   "execution_count": 52,
   "metadata": {},
   "outputs": [
    {
     "name": "stderr",
     "output_type": "stream",
     "text": [
      "100%|██████████████████████████████████████████████████████████████████████████████████| 50/50 [00:00<00:00, 96.03it/s]\n"
     ]
    },
    {
     "data": {
      "text/plain": [
       "27.0"
      ]
     },
     "execution_count": 52,
     "metadata": {},
     "output_type": "execute_result"
    }
   ],
   "source": [
    "reinforce_agent.train(num_episodes=50)\n",
    "evaluate_policy(env, reinforce_agent)"
   ]
  },
  {
   "cell_type": "markdown",
   "metadata": {},
   "source": [
    "## 퀴즈\n",
    "\n",
    "<iframe src=\"https://tally.so/embed/wodEQb?alignLeft=1&hideTitle=1&transparentBackground=1&dynamicHeight=1\" loading=\"lazy\" width=\"100%\" height=\"1300\" frameborder=\"0\" marginheight=\"0\" marginwidth=\"0\" title=\"[RL] 정책 경사\"></iframe>"
   ]
  }
 ],
 "metadata": {
  "kernelspec": {
   "display_name": "Python 3 (ipykernel)",
   "language": "python",
   "name": "python3"
  },
  "language_info": {
   "codemirror_mode": {
    "name": "ipython",
    "version": 3
   },
   "file_extension": ".py",
   "mimetype": "text/x-python",
   "name": "python",
   "nbconvert_exporter": "python",
   "pygments_lexer": "ipython3",
   "version": "3.10.11"
  }
 },
 "nbformat": 4,
 "nbformat_minor": 2
}
