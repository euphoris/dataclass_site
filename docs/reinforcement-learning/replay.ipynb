{
 "cells": [
  {
   "cell_type": "markdown",
   "metadata": {},
   "source": [
    "# 경험 리플레이\n",
    "\n",
    "## 비트 플리핑 환경\n",
    "\n",
    "5개의 동전을 최대 5번까지 뒤집어서 목표 상태에 도달해야 하는 환경"
   ]
  },
  {
   "cell_type": "code",
   "execution_count": 4,
   "metadata": {},
   "outputs": [],
   "source": [
    "from stable_baselines3.common.envs import BitFlippingEnv\n",
    "\n",
    "N_BITS = 5\n",
    "env = BitFlippingEnv(n_bits=N_BITS, continuous=False, max_steps=N_BITS)"
   ]
  },
  {
   "cell_type": "markdown",
   "metadata": {},
   "source": [
    "### 바닐라 ER"
   ]
  },
  {
   "cell_type": "code",
   "execution_count": null,
   "metadata": {},
   "outputs": [],
   "source": [
    "from stable_baselines3 import DQN\n",
    "from stable_baselines3.common.logger import configure\n",
    "\n",
    "# 모델\n",
    "model = DQN(\"MultiInputPolicy\", env, verbose=1)\n",
    "\n",
    "# 학습 과정을 CSV로 저장\n",
    "log_dir = \"./vanilla\"\n",
    "new_logger = configure(log_dir, [\"csv\"])\n",
    "model.set_logger(new_logger)\n",
    "\n",
    "# 학습\n",
    "model.learn(5000, progress_bar=True)"
   ]
  },
  {
   "cell_type": "markdown",
   "metadata": {},
   "source": [
    "학습 과정 시각화"
   ]
  },
  {
   "cell_type": "code",
   "execution_count": null,
   "metadata": {},
   "outputs": [],
   "source": [
    "import pandas as pd\n",
    "import matplotlib.pyplot as plt\n",
    "\n",
    "log_df = pd.read_csv(log_dir + \"/progress.csv\")\n",
    "plt.plot(log_df['time/total_timesteps'], log_df['rollout/success_rate'])"
   ]
  },
  {
   "cell_type": "markdown",
   "metadata": {},
   "source": [
    "### DQN+HER"
   ]
  },
  {
   "cell_type": "code",
   "execution_count": null,
   "metadata": {},
   "outputs": [],
   "source": [
    "from stable_baselines3 import DQN\n",
    "from stable_baselines3.common.logger import configure\n",
    "from stable_baselines3 import HerReplayBuffer\n",
    "from stable_baselines3.her.goal_selection_strategy import GoalSelectionStrategy\n",
    "\n",
    "model = DQN(\n",
    "    \"MultiInputPolicy\",\n",
    "    env,\n",
    "    replay_buffer_class=HerReplayBuffer,\n",
    "    replay_buffer_kwargs=dict(\n",
    "        n_sampled_goal=1,  # 행동마다 선택하는 가상 목표의 개수\n",
    "        goal_selection_strategy=GoalSelectionStrategy.FUTURE, # 가상 목표 선택 전략\n",
    "    ),\n",
    "    verbose=1\n",
    ")\n",
    "\n",
    "# 학습 과정을 CSV로 저장\n",
    "log_dir = \"./her\"\n",
    "new_logger = configure(log_dir, [\"csv\"])\n",
    "model.set_logger(new_logger)\n",
    "\n",
    "# 학습\n",
    "model.learn(5000, progress_bar=True)"
   ]
  },
  {
   "cell_type": "markdown",
   "metadata": {},
   "source": [
    "학습 과정 시각화"
   ]
  },
  {
   "cell_type": "code",
   "execution_count": null,
   "metadata": {},
   "outputs": [],
   "source": [
    "log_df = pd.read_csv(log_dir + \"/progress.csv\")\n",
    "plt.plot(log_df['time/total_timesteps'], log_df['rollout/success_rate'])"
   ]
  },
  {
   "cell_type": "markdown",
   "metadata": {},
   "source": [
    "## 퀴즈\n",
    "\n",
    "<iframe src=\"https://tally.so/embed/wMYXg8?alignLeft=1&hideTitle=1&transparentBackground=1&dynamicHeight=1\" loading=\"lazy\" width=\"100%\" height=\"1200\" frameborder=\"0\" marginheight=\"0\" marginwidth=\"0\" title=\"[RL] 경험 리플레이\"></iframe>"
   ]
  }
 ],
 "metadata": {
  "kernelspec": {
   "display_name": "Python 3 (ipykernel)",
   "language": "python",
   "name": "python3"
  },
  "language_info": {
   "codemirror_mode": {
    "name": "ipython",
    "version": 3
   },
   "file_extension": ".py",
   "mimetype": "text/x-python",
   "name": "python",
   "nbconvert_exporter": "python",
   "pygments_lexer": "ipython3",
   "version": "3.10.11"
  }
 },
 "nbformat": 4,
 "nbformat_minor": 2
}
