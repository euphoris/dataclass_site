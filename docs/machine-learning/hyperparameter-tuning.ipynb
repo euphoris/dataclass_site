{
 "cells": [
  {
   "cell_type": "code",
   "execution_count": 1,
   "id": "b84fc655",
   "metadata": {},
   "outputs": [],
   "source": [
    "import pandas as pd\n",
    "df = pd.read_excel('cancer.xlsx')\n",
    "\n",
    "# 전처리\n",
    "target = 'diagnosis'\n",
    "y = df[target].map({'B': 0, 'M': 1})\n",
    "x = df.drop(columns=target)\n",
    "\n",
    "# 데이터 분할\n",
    "from sklearn.model_selection import train_test_split\n",
    "x_train, x_test, y_train, y_test = train_test_split(\n",
    "    x, y, test_size=0.2, random_state=42)"
   ]
  },
  {
   "cell_type": "code",
   "execution_count": 2,
   "id": "d95fdd39",
   "metadata": {},
   "outputs": [
    {
     "data": {
      "text/plain": [
       "{'C': 1.0,\n",
       " 'break_ties': False,\n",
       " 'cache_size': 200,\n",
       " 'class_weight': None,\n",
       " 'coef0': 0.0,\n",
       " 'decision_function_shape': 'ovr',\n",
       " 'degree': 3,\n",
       " 'gamma': 'scale',\n",
       " 'kernel': 'linear',\n",
       " 'max_iter': -1,\n",
       " 'probability': False,\n",
       " 'random_state': None,\n",
       " 'shrinking': True,\n",
       " 'tol': 0.001,\n",
       " 'verbose': False}"
      ]
     },
     "execution_count": 2,
     "metadata": {},
     "output_type": "execute_result"
    }
   ],
   "source": [
    "# Support Vector Machine\n",
    "from sklearn.svm import SVC\n",
    "model = SVC(kernel='linear')\n",
    "# 하이퍼 파라미터\n",
    "model.get_params()"
   ]
  },
  {
   "cell_type": "code",
   "execution_count": 7,
   "id": "bd419074",
   "metadata": {},
   "outputs": [
    {
     "data": {
      "text/plain": [
       "array([[0.13394802, 0.7031127 , 1.15047261, 1.02227898, 0.33443023,\n",
       "        0.30568719, 0.44130614, 0.08846798, 0.00658455, 1.48314137,\n",
       "        3.11137723, 1.08210364]])"
      ]
     },
     "execution_count": 7,
     "metadata": {},
     "output_type": "execute_result"
    }
   ],
   "source": [
    "# 학습\n",
    "model.fit(x_train, y_train)\n",
    "# 파라미터\n",
    "model.coef_ # 계수(coefficient)"
   ]
  },
  {
   "cell_type": "code",
   "execution_count": 8,
   "id": "cab7a30e",
   "metadata": {},
   "outputs": [
    {
     "data": {
      "text/plain": [
       "0.9736842105263158"
      ]
     },
     "execution_count": 8,
     "metadata": {},
     "output_type": "execute_result"
    }
   ],
   "source": [
    "model.score(x_test, y_test)"
   ]
  },
  {
   "cell_type": "code",
   "execution_count": 4,
   "id": "fb2c1c52",
   "metadata": {},
   "outputs": [
    {
     "data": {
      "text/plain": [
       "array([0.97802198, 0.92307692, 0.96703297, 0.93406593, 0.9010989 ])"
      ]
     },
     "execution_count": 4,
     "metadata": {},
     "output_type": "execute_result"
    }
   ],
   "source": [
    "# 간단하게\n",
    "from sklearn.model_selection import cross_val_score\n",
    "scores = cross_val_score(model, x_train, y_train, cv=5)\n",
    "scores"
   ]
  },
  {
   "cell_type": "code",
   "execution_count": null,
   "id": "781d4c37",
   "metadata": {},
   "outputs": [],
   "source": [
    "# 229\n",
    "param_grid = [\n",
    "{'C': [1, 10, 100, 1000], 'kernel': ['linear']},\n",
    "{'C': [1, 10, 100, 1000], 'gamma': [0.001, 0.0001], 'kernel': ['rbf']},\n",
    "]\n",
    "\n",
    "# 230\n",
    "from sklearn.model_selection import RandomizedSearchCV\n",
    "random_cv = RandomizedSearchCV(model, param_grid, n_iter=10, cv=5, verbose=2)\n",
    "random_cv.fit(x_train, y_train)"
   ]
  },
  {
   "cell_type": "code",
   "execution_count": null,
   "id": "d3a7f994",
   "metadata": {},
   "outputs": [],
   "source": [
    "# 가장 성능이 높은 하이퍼파라미터\n",
    "random_cv.best_params_"
   ]
  },
  {
   "cell_type": "code",
   "execution_count": 6,
   "id": "b2770d1b",
   "metadata": {},
   "outputs": [
    {
     "data": {
      "text/plain": [
       "0.956140350877193"
      ]
     },
     "execution_count": 6,
     "metadata": {},
     "output_type": "execute_result"
    }
   ],
   "source": [
    "best_model = random_cv.best_estimator_\n",
    "best_model.score(x_test, y_test)"
   ]
  },
  {
   "cell_type": "code",
   "execution_count": 9,
   "id": "d7415761",
   "metadata": {},
   "outputs": [
    {
     "data": {
      "text/plain": [
       "array([2, 9, 2, 5, 7, 1, 5, 1, 6, 7], dtype=int64)"
      ]
     },
     "execution_count": 9,
     "metadata": {},
     "output_type": "execute_result"
    }
   ],
   "source": [
    "import scipy\n",
    "p = scipy.stats.randint(1, 10)\n",
    "p.rvs(10) # 난수 10개"
   ]
  },
  {
   "cell_type": "code",
   "execution_count": 14,
   "id": "2d999b76",
   "metadata": {},
   "outputs": [
    {
     "data": {
      "text/plain": [
       "array([2.01295604e-03, 1.04887187e-04, 4.12424409e-04, 3.99452887e-04,\n",
       "       9.12718717e-05, 5.47252328e-03, 6.73801288e-04, 1.66499546e-03,\n",
       "       2.78770827e-05, 1.49368040e-04])"
      ]
     },
     "execution_count": 14,
     "metadata": {},
     "output_type": "execute_result"
    }
   ],
   "source": [
    "p = scipy.stats.uniform(1, -1) # randint -> uniform\n",
    "10 ** p.rvs(10) # 난수 10개"
   ]
  },
  {
   "cell_type": "code",
   "execution_count": 11,
   "id": "99cf9368",
   "metadata": {},
   "outputs": [
    {
     "data": {
      "text/plain": [
       "array([0.00372758, 0.00096534, 0.00013629, 0.00090773, 0.05639246,\n",
       "       0.03542506, 0.00018209, 0.00418193, 0.08801932, 0.01706827])"
      ]
     },
     "execution_count": 11,
     "metadata": {},
     "output_type": "execute_result"
    }
   ],
   "source": [
    "p = scipy.stats.loguniform(1e-4, 1e-1) # 0.0001 ~ 0.1\n",
    "p.rvs(10) # 난수 10개"
   ]
  },
  {
   "cell_type": "code",
   "execution_count": 15,
   "id": "7911a887",
   "metadata": {},
   "outputs": [
    {
     "name": "stdout",
     "output_type": "stream",
     "text": [
      "Fitting 2 folds for each of 10 candidates, totalling 20 fits\n",
      "[CV] END C=182.75740211688858, gamma=0.0004501479076085557, kernel=rbf; total time=   0.0s\n",
      "[CV] END C=182.75740211688858, gamma=0.0004501479076085557, kernel=rbf; total time=   0.0s\n",
      "[CV] END C=428.830454770395, gamma=0.000676596264077591, kernel=rbf; total time=   0.0s\n",
      "[CV] END C=428.830454770395, gamma=0.000676596264077591, kernel=rbf; total time=   0.0s\n",
      "[CV] END C=2.1091684248556524, gamma=0.0009966409328125913, kernel=rbf; total time=   0.0s\n",
      "[CV] END C=2.1091684248556524, gamma=0.0009966409328125913, kernel=rbf; total time=   0.0s\n",
      "[CV] END ................C=12.372385356504877, kernel=linear; total time=   4.9s\n",
      "[CV] END ................C=12.372385356504877, kernel=linear; total time=   0.7s\n",
      "[CV] END .................C=18.06890033548341, kernel=linear; total time=   2.4s\n",
      "[CV] END .................C=18.06890033548341, kernel=linear; total time=   3.4s\n",
      "[CV] END ................C=230.52753222097869, kernel=linear; total time=  10.2s\n",
      "[CV] END ................C=230.52753222097869, kernel=linear; total time=   2.7s\n",
      "[CV] END ................C=1.7636566309281456, kernel=linear; total time=   0.6s\n",
      "[CV] END ................C=1.7636566309281456, kernel=linear; total time=   1.2s\n",
      "[CV] END .................C=76.85992166504752, kernel=linear; total time=   5.6s\n",
      "[CV] END .................C=76.85992166504752, kernel=linear; total time=   2.1s\n",
      "[CV] END C=45.61013158825893, gamma=0.00012061126531531652, kernel=rbf; total time=   0.0s\n",
      "[CV] END C=45.61013158825893, gamma=0.00012061126531531652, kernel=rbf; total time=   0.0s\n",
      "[CV] END ................C=16.132445179832295, kernel=linear; total time=   5.6s\n",
      "[CV] END ................C=16.132445179832295, kernel=linear; total time=   1.8s\n"
     ]
    },
    {
     "data": {
      "text/html": [
       "<style>#sk-container-id-1 {color: black;}#sk-container-id-1 pre{padding: 0;}#sk-container-id-1 div.sk-toggleable {background-color: white;}#sk-container-id-1 label.sk-toggleable__label {cursor: pointer;display: block;width: 100%;margin-bottom: 0;padding: 0.3em;box-sizing: border-box;text-align: center;}#sk-container-id-1 label.sk-toggleable__label-arrow:before {content: \"▸\";float: left;margin-right: 0.25em;color: #696969;}#sk-container-id-1 label.sk-toggleable__label-arrow:hover:before {color: black;}#sk-container-id-1 div.sk-estimator:hover label.sk-toggleable__label-arrow:before {color: black;}#sk-container-id-1 div.sk-toggleable__content {max-height: 0;max-width: 0;overflow: hidden;text-align: left;background-color: #f0f8ff;}#sk-container-id-1 div.sk-toggleable__content pre {margin: 0.2em;color: black;border-radius: 0.25em;background-color: #f0f8ff;}#sk-container-id-1 input.sk-toggleable__control:checked~div.sk-toggleable__content {max-height: 200px;max-width: 100%;overflow: auto;}#sk-container-id-1 input.sk-toggleable__control:checked~label.sk-toggleable__label-arrow:before {content: \"▾\";}#sk-container-id-1 div.sk-estimator input.sk-toggleable__control:checked~label.sk-toggleable__label {background-color: #d4ebff;}#sk-container-id-1 div.sk-label input.sk-toggleable__control:checked~label.sk-toggleable__label {background-color: #d4ebff;}#sk-container-id-1 input.sk-hidden--visually {border: 0;clip: rect(1px 1px 1px 1px);clip: rect(1px, 1px, 1px, 1px);height: 1px;margin: -1px;overflow: hidden;padding: 0;position: absolute;width: 1px;}#sk-container-id-1 div.sk-estimator {font-family: monospace;background-color: #f0f8ff;border: 1px dotted black;border-radius: 0.25em;box-sizing: border-box;margin-bottom: 0.5em;}#sk-container-id-1 div.sk-estimator:hover {background-color: #d4ebff;}#sk-container-id-1 div.sk-parallel-item::after {content: \"\";width: 100%;border-bottom: 1px solid gray;flex-grow: 1;}#sk-container-id-1 div.sk-label:hover label.sk-toggleable__label {background-color: #d4ebff;}#sk-container-id-1 div.sk-serial::before {content: \"\";position: absolute;border-left: 1px solid gray;box-sizing: border-box;top: 0;bottom: 0;left: 50%;z-index: 0;}#sk-container-id-1 div.sk-serial {display: flex;flex-direction: column;align-items: center;background-color: white;padding-right: 0.2em;padding-left: 0.2em;position: relative;}#sk-container-id-1 div.sk-item {position: relative;z-index: 1;}#sk-container-id-1 div.sk-parallel {display: flex;align-items: stretch;justify-content: center;background-color: white;position: relative;}#sk-container-id-1 div.sk-item::before, #sk-container-id-1 div.sk-parallel-item::before {content: \"\";position: absolute;border-left: 1px solid gray;box-sizing: border-box;top: 0;bottom: 0;left: 50%;z-index: -1;}#sk-container-id-1 div.sk-parallel-item {display: flex;flex-direction: column;z-index: 1;position: relative;background-color: white;}#sk-container-id-1 div.sk-parallel-item:first-child::after {align-self: flex-end;width: 50%;}#sk-container-id-1 div.sk-parallel-item:last-child::after {align-self: flex-start;width: 50%;}#sk-container-id-1 div.sk-parallel-item:only-child::after {width: 0;}#sk-container-id-1 div.sk-dashed-wrapped {border: 1px dashed gray;margin: 0 0.4em 0.5em 0.4em;box-sizing: border-box;padding-bottom: 0.4em;background-color: white;}#sk-container-id-1 div.sk-label label {font-family: monospace;font-weight: bold;display: inline-block;line-height: 1.2em;}#sk-container-id-1 div.sk-label-container {text-align: center;}#sk-container-id-1 div.sk-container {/* jupyter's `normalize.less` sets `[hidden] { display: none; }` but bootstrap.min.css set `[hidden] { display: none !important; }` so we also need the `!important` here to be able to override the default hidden behavior on the sphinx rendered scikit-learn.org. See: https://github.com/scikit-learn/scikit-learn/issues/21755 */display: inline-block !important;position: relative;}#sk-container-id-1 div.sk-text-repr-fallback {display: none;}</style><div id=\"sk-container-id-1\" class=\"sk-top-container\"><div class=\"sk-text-repr-fallback\"><pre>RandomizedSearchCV(cv=2, estimator=SVC(kernel=&#x27;linear&#x27;),\n",
       "                   param_distributions=[{&#x27;C&#x27;: &lt;scipy.stats._distn_infrastructure.rv_continuous_frozen object at 0x00000176393B8C10&gt;,\n",
       "                                         &#x27;kernel&#x27;: [&#x27;linear&#x27;]},\n",
       "                                        {&#x27;C&#x27;: &lt;scipy.stats._distn_infrastructure.rv_continuous_frozen object at 0x00000176393B81F0&gt;,\n",
       "                                         &#x27;gamma&#x27;: &lt;scipy.stats._distn_infrastructure.rv_continuous_frozen object at 0x00000176393B8AF0&gt;,\n",
       "                                         &#x27;kernel&#x27;: [&#x27;rbf&#x27;]}],\n",
       "                   verbose=2)</pre><b>In a Jupyter environment, please rerun this cell to show the HTML representation or trust the notebook. <br />On GitHub, the HTML representation is unable to render, please try loading this page with nbviewer.org.</b></div><div class=\"sk-container\" hidden><div class=\"sk-item sk-dashed-wrapped\"><div class=\"sk-label-container\"><div class=\"sk-label sk-toggleable\"><input class=\"sk-toggleable__control sk-hidden--visually\" id=\"sk-estimator-id-1\" type=\"checkbox\" ><label for=\"sk-estimator-id-1\" class=\"sk-toggleable__label sk-toggleable__label-arrow\">RandomizedSearchCV</label><div class=\"sk-toggleable__content\"><pre>RandomizedSearchCV(cv=2, estimator=SVC(kernel=&#x27;linear&#x27;),\n",
       "                   param_distributions=[{&#x27;C&#x27;: &lt;scipy.stats._distn_infrastructure.rv_continuous_frozen object at 0x00000176393B8C10&gt;,\n",
       "                                         &#x27;kernel&#x27;: [&#x27;linear&#x27;]},\n",
       "                                        {&#x27;C&#x27;: &lt;scipy.stats._distn_infrastructure.rv_continuous_frozen object at 0x00000176393B81F0&gt;,\n",
       "                                         &#x27;gamma&#x27;: &lt;scipy.stats._distn_infrastructure.rv_continuous_frozen object at 0x00000176393B8AF0&gt;,\n",
       "                                         &#x27;kernel&#x27;: [&#x27;rbf&#x27;]}],\n",
       "                   verbose=2)</pre></div></div></div><div class=\"sk-parallel\"><div class=\"sk-parallel-item\"><div class=\"sk-item\"><div class=\"sk-label-container\"><div class=\"sk-label sk-toggleable\"><input class=\"sk-toggleable__control sk-hidden--visually\" id=\"sk-estimator-id-2\" type=\"checkbox\" ><label for=\"sk-estimator-id-2\" class=\"sk-toggleable__label sk-toggleable__label-arrow\">estimator: SVC</label><div class=\"sk-toggleable__content\"><pre>SVC(kernel=&#x27;linear&#x27;)</pre></div></div></div><div class=\"sk-serial\"><div class=\"sk-item\"><div class=\"sk-estimator sk-toggleable\"><input class=\"sk-toggleable__control sk-hidden--visually\" id=\"sk-estimator-id-3\" type=\"checkbox\" ><label for=\"sk-estimator-id-3\" class=\"sk-toggleable__label sk-toggleable__label-arrow\">SVC</label><div class=\"sk-toggleable__content\"><pre>SVC(kernel=&#x27;linear&#x27;)</pre></div></div></div></div></div></div></div></div></div></div>"
      ],
      "text/plain": [
       "RandomizedSearchCV(cv=2, estimator=SVC(kernel='linear'),\n",
       "                   param_distributions=[{'C': <scipy.stats._distn_infrastructure.rv_continuous_frozen object at 0x00000176393B8C10>,\n",
       "                                         'kernel': ['linear']},\n",
       "                                        {'C': <scipy.stats._distn_infrastructure.rv_continuous_frozen object at 0x00000176393B81F0>,\n",
       "                                         'gamma': <scipy.stats._distn_infrastructure.rv_continuous_frozen object at 0x00000176393B8AF0>,\n",
       "                                         'kernel': ['rbf']}],\n",
       "                   verbose=2)"
      ]
     },
     "execution_count": 15,
     "metadata": {},
     "output_type": "execute_result"
    }
   ],
   "source": [
    "param_grid = [\n",
    "{'C': scipy.stats.loguniform(1, 1000), 'kernel': ['linear']},\n",
    "{'C': scipy.stats.loguniform(1, 1000), 'gamma': scipy.stats.loguniform(1e-4, 1e-3),\n",
    "'kernel': ['rbf']},\n",
    "]\n",
    "# 튜닝\n",
    "random_cv = RandomizedSearchCV(model, param_grid, n_iter=10, cv=2, verbose=2)\n",
    "random_cv.fit(x_train, y_train)"
   ]
  },
  {
   "cell_type": "markdown",
   "id": "5a65f577",
   "metadata": {},
   "source": [
    "## 퀴즈\n",
    "\n",
    "<iframe src=\"https://tally.so/embed/wAxe0o?alignLeft=1&hideTitle=1&transparentBackground=1&dynamicHeight=1\" loading=\"lazy\" width=\"100%\" height=\"900\" frameborder=\"0\" marginheight=\"0\" marginwidth=\"0\" title=\"[ML] 하이퍼파라미터\"></iframe>"
   ]
  }
 ],
 "metadata": {
  "kernelspec": {
   "display_name": "Python 3 (ipykernel)",
   "language": "python",
   "name": "python3"
  },
  "language_info": {
   "codemirror_mode": {
    "name": "ipython",
    "version": 3
   },
   "file_extension": ".py",
   "mimetype": "text/x-python",
   "name": "python",
   "nbconvert_exporter": "python",
   "pygments_lexer": "ipython3",
   "version": "3.8.16"
  }
 },
 "nbformat": 4,
 "nbformat_minor": 5
}
